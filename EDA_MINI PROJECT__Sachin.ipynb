{
 "cells": [
  {
   "cell_type": "markdown",
   "metadata": {},
   "source": [
    "# Problem statement\n",
    "\n",
    "A new football club named ‘Brussels United FC’ has just been inaugurated. This club does not have a team yet. The team is looking to hire players for their roster. Management wants to make such decisions using data based approach. During a recent hiring drive, you were selected for the Data Science team as a Junior data scientist. Your team has been tasked with creating a report which recommends players for the main team.\n",
    "\n",
    "To start with, a total 15 players are required. Player data for all teams has been acquired from FIFA. This data contains information about the palyers, the clubs they are currently playing for and various performance measures.\n",
    "\n",
    "Requirement/Constraint: There is a limited budget for hiring players. The team needs 20 possible players to choose from. You have been requested to formulate a report in order to help the management make a decision regarding potential players."
   ]
  },
  {
   "cell_type": "markdown",
   "metadata": {},
   "source": [
    "# 1. Import the required libraries"
   ]
  },
  {
   "cell_type": "code",
   "execution_count": 1,
   "metadata": {},
   "outputs": [],
   "source": [
    "import numpy as np\n",
    "import pandas as pd\n",
    "import matplotlib.pyplot as plt\n",
    "import seaborn as sns"
   ]
  },
  {
   "cell_type": "markdown",
   "metadata": {},
   "source": [
    "## Understanding The Data"
   ]
  },
  {
   "cell_type": "code",
   "execution_count": 2,
   "metadata": {},
   "outputs": [
    {
     "data": {
      "text/html": [
       "<div>\n",
       "<style scoped>\n",
       "    .dataframe tbody tr th:only-of-type {\n",
       "        vertical-align: middle;\n",
       "    }\n",
       "\n",
       "    .dataframe tbody tr th {\n",
       "        vertical-align: top;\n",
       "    }\n",
       "\n",
       "    .dataframe thead th {\n",
       "        text-align: right;\n",
       "    }\n",
       "</style>\n",
       "<table border=\"1\" class=\"dataframe\">\n",
       "  <thead>\n",
       "    <tr style=\"text-align: right;\">\n",
       "      <th></th>\n",
       "      <th>ID</th>\n",
       "      <th>Name</th>\n",
       "      <th>Age</th>\n",
       "      <th>Photo</th>\n",
       "      <th>Nationality</th>\n",
       "      <th>Flag</th>\n",
       "      <th>Overall</th>\n",
       "      <th>Potential</th>\n",
       "      <th>Club</th>\n",
       "      <th>Club Logo</th>\n",
       "      <th>...</th>\n",
       "      <th>Composure</th>\n",
       "      <th>Marking</th>\n",
       "      <th>StandingTackle</th>\n",
       "      <th>SlidingTackle</th>\n",
       "      <th>GKDiving</th>\n",
       "      <th>GKHandling</th>\n",
       "      <th>GKKicking</th>\n",
       "      <th>GKPositioning</th>\n",
       "      <th>GKReflexes</th>\n",
       "      <th>Release Clause</th>\n",
       "    </tr>\n",
       "  </thead>\n",
       "  <tbody>\n",
       "    <tr>\n",
       "      <th>0</th>\n",
       "      <td>158023</td>\n",
       "      <td>L. Messi</td>\n",
       "      <td>31</td>\n",
       "      <td>https://cdn.sofifa.org/players/4/19/158023.png</td>\n",
       "      <td>Argentina</td>\n",
       "      <td>https://cdn.sofifa.org/flags/52.png</td>\n",
       "      <td>94</td>\n",
       "      <td>94</td>\n",
       "      <td>FC Barcelona</td>\n",
       "      <td>https://cdn.sofifa.org/teams/2/light/241.png</td>\n",
       "      <td>...</td>\n",
       "      <td>96.0</td>\n",
       "      <td>33.0</td>\n",
       "      <td>28.0</td>\n",
       "      <td>26.0</td>\n",
       "      <td>6.0</td>\n",
       "      <td>11.0</td>\n",
       "      <td>15.0</td>\n",
       "      <td>14.0</td>\n",
       "      <td>8.0</td>\n",
       "      <td>€226.5M</td>\n",
       "    </tr>\n",
       "    <tr>\n",
       "      <th>1</th>\n",
       "      <td>20801</td>\n",
       "      <td>Cristiano Ronaldo</td>\n",
       "      <td>33</td>\n",
       "      <td>https://cdn.sofifa.org/players/4/19/20801.png</td>\n",
       "      <td>Portugal</td>\n",
       "      <td>https://cdn.sofifa.org/flags/38.png</td>\n",
       "      <td>94</td>\n",
       "      <td>94</td>\n",
       "      <td>Juventus</td>\n",
       "      <td>https://cdn.sofifa.org/teams/2/light/45.png</td>\n",
       "      <td>...</td>\n",
       "      <td>95.0</td>\n",
       "      <td>28.0</td>\n",
       "      <td>31.0</td>\n",
       "      <td>23.0</td>\n",
       "      <td>7.0</td>\n",
       "      <td>11.0</td>\n",
       "      <td>15.0</td>\n",
       "      <td>14.0</td>\n",
       "      <td>11.0</td>\n",
       "      <td>€127.1M</td>\n",
       "    </tr>\n",
       "    <tr>\n",
       "      <th>2</th>\n",
       "      <td>190871</td>\n",
       "      <td>Neymar Jr</td>\n",
       "      <td>26</td>\n",
       "      <td>https://cdn.sofifa.org/players/4/19/190871.png</td>\n",
       "      <td>Brazil</td>\n",
       "      <td>https://cdn.sofifa.org/flags/54.png</td>\n",
       "      <td>92</td>\n",
       "      <td>93</td>\n",
       "      <td>Paris Saint-Germain</td>\n",
       "      <td>https://cdn.sofifa.org/teams/2/light/73.png</td>\n",
       "      <td>...</td>\n",
       "      <td>94.0</td>\n",
       "      <td>27.0</td>\n",
       "      <td>24.0</td>\n",
       "      <td>33.0</td>\n",
       "      <td>9.0</td>\n",
       "      <td>9.0</td>\n",
       "      <td>15.0</td>\n",
       "      <td>15.0</td>\n",
       "      <td>11.0</td>\n",
       "      <td>€228.1M</td>\n",
       "    </tr>\n",
       "    <tr>\n",
       "      <th>3</th>\n",
       "      <td>193080</td>\n",
       "      <td>De Gea</td>\n",
       "      <td>27</td>\n",
       "      <td>https://cdn.sofifa.org/players/4/19/193080.png</td>\n",
       "      <td>Spain</td>\n",
       "      <td>https://cdn.sofifa.org/flags/45.png</td>\n",
       "      <td>91</td>\n",
       "      <td>93</td>\n",
       "      <td>Manchester United</td>\n",
       "      <td>https://cdn.sofifa.org/teams/2/light/11.png</td>\n",
       "      <td>...</td>\n",
       "      <td>68.0</td>\n",
       "      <td>15.0</td>\n",
       "      <td>21.0</td>\n",
       "      <td>13.0</td>\n",
       "      <td>90.0</td>\n",
       "      <td>85.0</td>\n",
       "      <td>87.0</td>\n",
       "      <td>88.0</td>\n",
       "      <td>94.0</td>\n",
       "      <td>€138.6M</td>\n",
       "    </tr>\n",
       "    <tr>\n",
       "      <th>4</th>\n",
       "      <td>192985</td>\n",
       "      <td>K. De Bruyne</td>\n",
       "      <td>27</td>\n",
       "      <td>https://cdn.sofifa.org/players/4/19/192985.png</td>\n",
       "      <td>Belgium</td>\n",
       "      <td>https://cdn.sofifa.org/flags/7.png</td>\n",
       "      <td>91</td>\n",
       "      <td>92</td>\n",
       "      <td>Manchester City</td>\n",
       "      <td>https://cdn.sofifa.org/teams/2/light/10.png</td>\n",
       "      <td>...</td>\n",
       "      <td>88.0</td>\n",
       "      <td>68.0</td>\n",
       "      <td>58.0</td>\n",
       "      <td>51.0</td>\n",
       "      <td>15.0</td>\n",
       "      <td>13.0</td>\n",
       "      <td>5.0</td>\n",
       "      <td>10.0</td>\n",
       "      <td>13.0</td>\n",
       "      <td>€196.4M</td>\n",
       "    </tr>\n",
       "  </tbody>\n",
       "</table>\n",
       "<p>5 rows × 60 columns</p>\n",
       "</div>"
      ],
      "text/plain": [
       "       ID               Name  Age  \\\n",
       "0  158023           L. Messi   31   \n",
       "1   20801  Cristiano Ronaldo   33   \n",
       "2  190871          Neymar Jr   26   \n",
       "3  193080             De Gea   27   \n",
       "4  192985       K. De Bruyne   27   \n",
       "\n",
       "                                            Photo Nationality  \\\n",
       "0  https://cdn.sofifa.org/players/4/19/158023.png   Argentina   \n",
       "1   https://cdn.sofifa.org/players/4/19/20801.png    Portugal   \n",
       "2  https://cdn.sofifa.org/players/4/19/190871.png      Brazil   \n",
       "3  https://cdn.sofifa.org/players/4/19/193080.png       Spain   \n",
       "4  https://cdn.sofifa.org/players/4/19/192985.png     Belgium   \n",
       "\n",
       "                                  Flag  Overall  Potential  \\\n",
       "0  https://cdn.sofifa.org/flags/52.png       94         94   \n",
       "1  https://cdn.sofifa.org/flags/38.png       94         94   \n",
       "2  https://cdn.sofifa.org/flags/54.png       92         93   \n",
       "3  https://cdn.sofifa.org/flags/45.png       91         93   \n",
       "4   https://cdn.sofifa.org/flags/7.png       91         92   \n",
       "\n",
       "                  Club                                     Club Logo  ...  \\\n",
       "0         FC Barcelona  https://cdn.sofifa.org/teams/2/light/241.png  ...   \n",
       "1             Juventus   https://cdn.sofifa.org/teams/2/light/45.png  ...   \n",
       "2  Paris Saint-Germain   https://cdn.sofifa.org/teams/2/light/73.png  ...   \n",
       "3    Manchester United   https://cdn.sofifa.org/teams/2/light/11.png  ...   \n",
       "4      Manchester City   https://cdn.sofifa.org/teams/2/light/10.png  ...   \n",
       "\n",
       "  Composure Marking StandingTackle  SlidingTackle  GKDiving  GKHandling  \\\n",
       "0      96.0    33.0           28.0           26.0       6.0        11.0   \n",
       "1      95.0    28.0           31.0           23.0       7.0        11.0   \n",
       "2      94.0    27.0           24.0           33.0       9.0         9.0   \n",
       "3      68.0    15.0           21.0           13.0      90.0        85.0   \n",
       "4      88.0    68.0           58.0           51.0      15.0        13.0   \n",
       "\n",
       "  GKKicking GKPositioning GKReflexes  Release Clause  \n",
       "0      15.0          14.0        8.0         €226.5M  \n",
       "1      15.0          14.0       11.0         €127.1M  \n",
       "2      15.0          15.0       11.0         €228.1M  \n",
       "3      87.0          88.0       94.0         €138.6M  \n",
       "4       5.0          10.0       13.0         €196.4M  \n",
       "\n",
       "[5 rows x 60 columns]"
      ]
     },
     "execution_count": 2,
     "metadata": {},
     "output_type": "execute_result"
    }
   ],
   "source": [
    "fifa = pd.read_csv('fifa.csv')\n",
    "fifa.head()"
   ]
  },
  {
   "cell_type": "code",
   "execution_count": 3,
   "metadata": {},
   "outputs": [
    {
     "data": {
      "text/html": [
       "<div>\n",
       "<style scoped>\n",
       "    .dataframe tbody tr th:only-of-type {\n",
       "        vertical-align: middle;\n",
       "    }\n",
       "\n",
       "    .dataframe tbody tr th {\n",
       "        vertical-align: top;\n",
       "    }\n",
       "\n",
       "    .dataframe thead th {\n",
       "        text-align: right;\n",
       "    }\n",
       "</style>\n",
       "<table border=\"1\" class=\"dataframe\">\n",
       "  <thead>\n",
       "    <tr style=\"text-align: right;\">\n",
       "      <th></th>\n",
       "      <th>ID</th>\n",
       "      <th>unique id for every player</th>\n",
       "    </tr>\n",
       "  </thead>\n",
       "  <tbody>\n",
       "    <tr>\n",
       "      <th>0</th>\n",
       "      <td>Name</td>\n",
       "      <td>name</td>\n",
       "    </tr>\n",
       "    <tr>\n",
       "      <th>1</th>\n",
       "      <td>Age</td>\n",
       "      <td>age</td>\n",
       "    </tr>\n",
       "    <tr>\n",
       "      <th>2</th>\n",
       "      <td>Photo</td>\n",
       "      <td>url to the player's photo</td>\n",
       "    </tr>\n",
       "    <tr>\n",
       "      <th>3</th>\n",
       "      <td>Nationality</td>\n",
       "      <td>nationality</td>\n",
       "    </tr>\n",
       "    <tr>\n",
       "      <th>4</th>\n",
       "      <td>Flag</td>\n",
       "      <td>url to players's country flag</td>\n",
       "    </tr>\n",
       "  </tbody>\n",
       "</table>\n",
       "</div>"
      ],
      "text/plain": [
       "            ID     unique id for every player\n",
       "0         Name                           name\n",
       "1          Age                            age\n",
       "2        Photo      url to the player's photo\n",
       "3  Nationality                    nationality\n",
       "4         Flag  url to players's country flag"
      ]
     },
     "execution_count": 3,
     "metadata": {},
     "output_type": "execute_result"
    }
   ],
   "source": [
    "data = pd.read_csv('fifa_ variable_information.csv')\n",
    "data.head()"
   ]
  },
  {
   "cell_type": "code",
   "execution_count": 4,
   "metadata": {},
   "outputs": [
    {
     "data": {
      "text/html": [
       "<div>\n",
       "<style scoped>\n",
       "    .dataframe tbody tr th:only-of-type {\n",
       "        vertical-align: middle;\n",
       "    }\n",
       "\n",
       "    .dataframe tbody tr th {\n",
       "        vertical-align: top;\n",
       "    }\n",
       "\n",
       "    .dataframe thead th {\n",
       "        text-align: right;\n",
       "    }\n",
       "</style>\n",
       "<table border=\"1\" class=\"dataframe\">\n",
       "  <thead>\n",
       "    <tr style=\"text-align: right;\">\n",
       "      <th></th>\n",
       "      <th>ID</th>\n",
       "      <th>unique id for every player</th>\n",
       "    </tr>\n",
       "  </thead>\n",
       "  <tbody>\n",
       "    <tr>\n",
       "      <th>0</th>\n",
       "      <td>Name</td>\n",
       "      <td>name</td>\n",
       "    </tr>\n",
       "    <tr>\n",
       "      <th>1</th>\n",
       "      <td>Age</td>\n",
       "      <td>age</td>\n",
       "    </tr>\n",
       "    <tr>\n",
       "      <th>2</th>\n",
       "      <td>Photo</td>\n",
       "      <td>url to the player's photo</td>\n",
       "    </tr>\n",
       "    <tr>\n",
       "      <th>3</th>\n",
       "      <td>Nationality</td>\n",
       "      <td>nationality</td>\n",
       "    </tr>\n",
       "    <tr>\n",
       "      <th>4</th>\n",
       "      <td>Flag</td>\n",
       "      <td>url to players's country flag</td>\n",
       "    </tr>\n",
       "    <tr>\n",
       "      <th>5</th>\n",
       "      <td>Overall</td>\n",
       "      <td>overall rating</td>\n",
       "    </tr>\n",
       "    <tr>\n",
       "      <th>6</th>\n",
       "      <td>Potential</td>\n",
       "      <td>potential rating</td>\n",
       "    </tr>\n",
       "    <tr>\n",
       "      <th>7</th>\n",
       "      <td>Club</td>\n",
       "      <td>current club</td>\n",
       "    </tr>\n",
       "    <tr>\n",
       "      <th>8</th>\n",
       "      <td>Club Logo</td>\n",
       "      <td>url to club logo</td>\n",
       "    </tr>\n",
       "    <tr>\n",
       "      <th>9</th>\n",
       "      <td>Value</td>\n",
       "      <td>current market value</td>\n",
       "    </tr>\n",
       "    <tr>\n",
       "      <th>10</th>\n",
       "      <td>Wage</td>\n",
       "      <td>current wage</td>\n",
       "    </tr>\n",
       "    <tr>\n",
       "      <th>11</th>\n",
       "      <td>Preferred Foot</td>\n",
       "      <td>left/right</td>\n",
       "    </tr>\n",
       "    <tr>\n",
       "      <th>12</th>\n",
       "      <td>International Reputation</td>\n",
       "      <td>rating on scale of 5</td>\n",
       "    </tr>\n",
       "    <tr>\n",
       "      <th>13</th>\n",
       "      <td>Weak Foot</td>\n",
       "      <td>rating on scale of 5</td>\n",
       "    </tr>\n",
       "    <tr>\n",
       "      <th>14</th>\n",
       "      <td>Skill Moves</td>\n",
       "      <td>rating on scale of 5</td>\n",
       "    </tr>\n",
       "    <tr>\n",
       "      <th>15</th>\n",
       "      <td>Work Rate</td>\n",
       "      <td>attack work rate/defence work rate</td>\n",
       "    </tr>\n",
       "    <tr>\n",
       "      <th>16</th>\n",
       "      <td>Body Type</td>\n",
       "      <td>body type of player</td>\n",
       "    </tr>\n",
       "    <tr>\n",
       "      <th>17</th>\n",
       "      <td>Position</td>\n",
       "      <td>position on the pitch</td>\n",
       "    </tr>\n",
       "    <tr>\n",
       "      <th>18</th>\n",
       "      <td>Jersey Number</td>\n",
       "      <td>jersey number</td>\n",
       "    </tr>\n",
       "    <tr>\n",
       "      <th>19</th>\n",
       "      <td>Joined</td>\n",
       "      <td>joined date</td>\n",
       "    </tr>\n",
       "    <tr>\n",
       "      <th>20</th>\n",
       "      <td>Loaned From</td>\n",
       "      <td>club name if applicable</td>\n",
       "    </tr>\n",
       "    <tr>\n",
       "      <th>21</th>\n",
       "      <td>Contract Valid Until</td>\n",
       "      <td>contract end date</td>\n",
       "    </tr>\n",
       "    <tr>\n",
       "      <th>22</th>\n",
       "      <td>Height</td>\n",
       "      <td>height of the player</td>\n",
       "    </tr>\n",
       "    <tr>\n",
       "      <th>23</th>\n",
       "      <td>Weight</td>\n",
       "      <td>weight of the player</td>\n",
       "    </tr>\n",
       "    <tr>\n",
       "      <th>24</th>\n",
       "      <td>Crossing</td>\n",
       "      <td>rating on scale of 100</td>\n",
       "    </tr>\n",
       "    <tr>\n",
       "      <th>25</th>\n",
       "      <td>Finishing</td>\n",
       "      <td>rating on scale of 100</td>\n",
       "    </tr>\n",
       "    <tr>\n",
       "      <th>26</th>\n",
       "      <td>HeadingAccuracy</td>\n",
       "      <td>rating on scale of 100</td>\n",
       "    </tr>\n",
       "    <tr>\n",
       "      <th>27</th>\n",
       "      <td>ShortPassing</td>\n",
       "      <td>rating on scale of 100</td>\n",
       "    </tr>\n",
       "    <tr>\n",
       "      <th>28</th>\n",
       "      <td>Volleys</td>\n",
       "      <td>rating on scale of 100</td>\n",
       "    </tr>\n",
       "    <tr>\n",
       "      <th>29</th>\n",
       "      <td>Dribbling</td>\n",
       "      <td>rating on scale of 100</td>\n",
       "    </tr>\n",
       "    <tr>\n",
       "      <th>30</th>\n",
       "      <td>Curve</td>\n",
       "      <td>rating on scale of 100</td>\n",
       "    </tr>\n",
       "    <tr>\n",
       "      <th>31</th>\n",
       "      <td>FKAccuracy</td>\n",
       "      <td>rating on scale of 100</td>\n",
       "    </tr>\n",
       "    <tr>\n",
       "      <th>32</th>\n",
       "      <td>LongPassing</td>\n",
       "      <td>rating on scale of 100</td>\n",
       "    </tr>\n",
       "    <tr>\n",
       "      <th>33</th>\n",
       "      <td>BallControl</td>\n",
       "      <td>rating on scale of 100</td>\n",
       "    </tr>\n",
       "    <tr>\n",
       "      <th>34</th>\n",
       "      <td>Acceleration</td>\n",
       "      <td>rating on scale of 100</td>\n",
       "    </tr>\n",
       "    <tr>\n",
       "      <th>35</th>\n",
       "      <td>SprintSpeed</td>\n",
       "      <td>rating on scale of 100</td>\n",
       "    </tr>\n",
       "    <tr>\n",
       "      <th>36</th>\n",
       "      <td>Agility</td>\n",
       "      <td>rating on scale of 100</td>\n",
       "    </tr>\n",
       "    <tr>\n",
       "      <th>37</th>\n",
       "      <td>Reactions</td>\n",
       "      <td>rating on scale of 100\\</td>\n",
       "    </tr>\n",
       "    <tr>\n",
       "      <th>38</th>\n",
       "      <td>Balance</td>\n",
       "      <td>rating on scale of 100</td>\n",
       "    </tr>\n",
       "    <tr>\n",
       "      <th>39</th>\n",
       "      <td>ShotPower</td>\n",
       "      <td>rating on scale of 100</td>\n",
       "    </tr>\n",
       "    <tr>\n",
       "      <th>40</th>\n",
       "      <td>Jumping</td>\n",
       "      <td>rating on scale of 100</td>\n",
       "    </tr>\n",
       "    <tr>\n",
       "      <th>41</th>\n",
       "      <td>Stamina</td>\n",
       "      <td>rating on scale of 100</td>\n",
       "    </tr>\n",
       "    <tr>\n",
       "      <th>42</th>\n",
       "      <td>Strength</td>\n",
       "      <td>rating on scale of 100</td>\n",
       "    </tr>\n",
       "    <tr>\n",
       "      <th>43</th>\n",
       "      <td>LongShots</td>\n",
       "      <td>rating on scale of 100</td>\n",
       "    </tr>\n",
       "    <tr>\n",
       "      <th>44</th>\n",
       "      <td>Aggression</td>\n",
       "      <td>rating on scale of 100</td>\n",
       "    </tr>\n",
       "    <tr>\n",
       "      <th>45</th>\n",
       "      <td>Interceptions</td>\n",
       "      <td>rating on scale of 100</td>\n",
       "    </tr>\n",
       "    <tr>\n",
       "      <th>46</th>\n",
       "      <td>Positioning</td>\n",
       "      <td>rating on scale of 100</td>\n",
       "    </tr>\n",
       "    <tr>\n",
       "      <th>47</th>\n",
       "      <td>Vision</td>\n",
       "      <td>rating on scale of 100</td>\n",
       "    </tr>\n",
       "    <tr>\n",
       "      <th>48</th>\n",
       "      <td>Penalties</td>\n",
       "      <td>rating on scale of 100</td>\n",
       "    </tr>\n",
       "    <tr>\n",
       "      <th>49</th>\n",
       "      <td>Composure</td>\n",
       "      <td>rating on scale of 100</td>\n",
       "    </tr>\n",
       "    <tr>\n",
       "      <th>50</th>\n",
       "      <td>Marking</td>\n",
       "      <td>rating on scale of 100</td>\n",
       "    </tr>\n",
       "    <tr>\n",
       "      <th>51</th>\n",
       "      <td>StandingTackle</td>\n",
       "      <td>rating on scale of 100</td>\n",
       "    </tr>\n",
       "    <tr>\n",
       "      <th>52</th>\n",
       "      <td>SlidingTackle</td>\n",
       "      <td>rating on scale of 100</td>\n",
       "    </tr>\n",
       "    <tr>\n",
       "      <th>53</th>\n",
       "      <td>GKDiving</td>\n",
       "      <td>rating on scale of 100</td>\n",
       "    </tr>\n",
       "    <tr>\n",
       "      <th>54</th>\n",
       "      <td>GKHandling</td>\n",
       "      <td>rating on scale of 100</td>\n",
       "    </tr>\n",
       "    <tr>\n",
       "      <th>55</th>\n",
       "      <td>GKKicking</td>\n",
       "      <td>rating on scale of 100</td>\n",
       "    </tr>\n",
       "    <tr>\n",
       "      <th>56</th>\n",
       "      <td>GKPositioning</td>\n",
       "      <td>rating on scale of 100</td>\n",
       "    </tr>\n",
       "    <tr>\n",
       "      <th>57</th>\n",
       "      <td>GKReflexes</td>\n",
       "      <td>rating on scale of 100</td>\n",
       "    </tr>\n",
       "    <tr>\n",
       "      <th>58</th>\n",
       "      <td>Release Clause</td>\n",
       "      <td>release clause value</td>\n",
       "    </tr>\n",
       "  </tbody>\n",
       "</table>\n",
       "</div>"
      ],
      "text/plain": [
       "                          ID          unique id for every player\n",
       "0                       Name                                name\n",
       "1                        Age                                 age\n",
       "2                      Photo           url to the player's photo\n",
       "3                Nationality                         nationality\n",
       "4                       Flag       url to players's country flag\n",
       "5                    Overall                      overall rating\n",
       "6                  Potential                    potential rating\n",
       "7                       Club                        current club\n",
       "8                  Club Logo                    url to club logo\n",
       "9                      Value                current market value\n",
       "10                      Wage                        current wage\n",
       "11            Preferred Foot                          left/right\n",
       "12  International Reputation                rating on scale of 5\n",
       "13                 Weak Foot                rating on scale of 5\n",
       "14               Skill Moves                rating on scale of 5\n",
       "15                 Work Rate  attack work rate/defence work rate\n",
       "16                 Body Type                 body type of player\n",
       "17                  Position               position on the pitch\n",
       "18             Jersey Number                       jersey number\n",
       "19                    Joined                         joined date\n",
       "20               Loaned From             club name if applicable\n",
       "21      Contract Valid Until                   contract end date\n",
       "22                    Height                height of the player\n",
       "23                    Weight                weight of the player\n",
       "24                  Crossing              rating on scale of 100\n",
       "25                 Finishing              rating on scale of 100\n",
       "26           HeadingAccuracy              rating on scale of 100\n",
       "27              ShortPassing              rating on scale of 100\n",
       "28                   Volleys              rating on scale of 100\n",
       "29                 Dribbling              rating on scale of 100\n",
       "30                     Curve              rating on scale of 100\n",
       "31                FKAccuracy              rating on scale of 100\n",
       "32               LongPassing              rating on scale of 100\n",
       "33               BallControl              rating on scale of 100\n",
       "34              Acceleration              rating on scale of 100\n",
       "35               SprintSpeed              rating on scale of 100\n",
       "36                   Agility              rating on scale of 100\n",
       "37                 Reactions             rating on scale of 100\\\n",
       "38                   Balance              rating on scale of 100\n",
       "39                 ShotPower              rating on scale of 100\n",
       "40                   Jumping              rating on scale of 100\n",
       "41                   Stamina              rating on scale of 100\n",
       "42                  Strength              rating on scale of 100\n",
       "43                 LongShots              rating on scale of 100\n",
       "44                Aggression              rating on scale of 100\n",
       "45             Interceptions              rating on scale of 100\n",
       "46               Positioning              rating on scale of 100\n",
       "47                    Vision              rating on scale of 100\n",
       "48                 Penalties              rating on scale of 100\n",
       "49                 Composure              rating on scale of 100\n",
       "50                   Marking              rating on scale of 100\n",
       "51            StandingTackle              rating on scale of 100\n",
       "52             SlidingTackle              rating on scale of 100\n",
       "53                  GKDiving              rating on scale of 100\n",
       "54                GKHandling              rating on scale of 100\n",
       "55                 GKKicking              rating on scale of 100\n",
       "56             GKPositioning              rating on scale of 100\n",
       "57                GKReflexes              rating on scale of 100\n",
       "58            Release Clause                release clause value"
      ]
     },
     "execution_count": 4,
     "metadata": {},
     "output_type": "execute_result"
    }
   ],
   "source": [
    "data"
   ]
  },
  {
   "cell_type": "code",
   "execution_count": 5,
   "metadata": {},
   "outputs": [
    {
     "name": "stdout",
     "output_type": "stream",
     "text": [
      "<class 'pandas.core.frame.DataFrame'>\n",
      "RangeIndex: 18207 entries, 0 to 18206\n",
      "Data columns (total 60 columns):\n",
      " #   Column                    Non-Null Count  Dtype  \n",
      "---  ------                    --------------  -----  \n",
      " 0   ID                        18207 non-null  int64  \n",
      " 1   Name                      18207 non-null  object \n",
      " 2   Age                       18207 non-null  int64  \n",
      " 3   Photo                     18207 non-null  object \n",
      " 4   Nationality               18207 non-null  object \n",
      " 5   Flag                      18207 non-null  object \n",
      " 6   Overall                   18207 non-null  int64  \n",
      " 7   Potential                 18207 non-null  int64  \n",
      " 8   Club                      17966 non-null  object \n",
      " 9   Club Logo                 18207 non-null  object \n",
      " 10  Value                     18207 non-null  object \n",
      " 11  Wage                      18207 non-null  object \n",
      " 12  Preferred Foot            18159 non-null  object \n",
      " 13  International Reputation  18159 non-null  float64\n",
      " 14  Weak Foot                 18159 non-null  float64\n",
      " 15  Skill Moves               18159 non-null  float64\n",
      " 16  Work Rate                 18159 non-null  object \n",
      " 17  Body Type                 18159 non-null  object \n",
      " 18  Position                  18147 non-null  object \n",
      " 19  Jersey Number             18147 non-null  float64\n",
      " 20  Joined                    16654 non-null  object \n",
      " 21  Loaned From               1264 non-null   object \n",
      " 22  Contract Valid Until      17918 non-null  object \n",
      " 23  Height                    18159 non-null  object \n",
      " 24  Weight                    18159 non-null  object \n",
      " 25  Crossing                  18159 non-null  float64\n",
      " 26  Finishing                 18159 non-null  float64\n",
      " 27  HeadingAccuracy           18159 non-null  float64\n",
      " 28  ShortPassing              18159 non-null  float64\n",
      " 29  Volleys                   18159 non-null  float64\n",
      " 30  Dribbling                 18159 non-null  float64\n",
      " 31  Curve                     18159 non-null  float64\n",
      " 32  FKAccuracy                18159 non-null  float64\n",
      " 33  LongPassing               18159 non-null  float64\n",
      " 34  BallControl               18159 non-null  float64\n",
      " 35  Acceleration              18159 non-null  float64\n",
      " 36  SprintSpeed               18159 non-null  float64\n",
      " 37  Agility                   18159 non-null  float64\n",
      " 38  Reactions                 18159 non-null  float64\n",
      " 39  Balance                   18159 non-null  float64\n",
      " 40  ShotPower                 18159 non-null  float64\n",
      " 41  Jumping                   18159 non-null  float64\n",
      " 42  Stamina                   18159 non-null  float64\n",
      " 43  Strength                  18159 non-null  float64\n",
      " 44  LongShots                 18159 non-null  float64\n",
      " 45  Aggression                18159 non-null  float64\n",
      " 46  Interceptions             18159 non-null  float64\n",
      " 47  Positioning               18159 non-null  float64\n",
      " 48  Vision                    18159 non-null  float64\n",
      " 49  Penalties                 18159 non-null  float64\n",
      " 50  Composure                 18159 non-null  float64\n",
      " 51  Marking                   18159 non-null  float64\n",
      " 52  StandingTackle            18159 non-null  float64\n",
      " 53  SlidingTackle             18159 non-null  float64\n",
      " 54  GKDiving                  18159 non-null  float64\n",
      " 55  GKHandling                18159 non-null  float64\n",
      " 56  GKKicking                 18159 non-null  float64\n",
      " 57  GKPositioning             18159 non-null  float64\n",
      " 58  GKReflexes                18159 non-null  float64\n",
      " 59  Release Clause            16643 non-null  object \n",
      "dtypes: float64(38), int64(4), object(18)\n",
      "memory usage: 8.3+ MB\n"
     ]
    }
   ],
   "source": [
    "fifa.info()"
   ]
  },
  {
   "cell_type": "markdown",
   "metadata": {},
   "source": [
    "# Data preprocessing\n",
    "* Drop any columns that you deem unnecessary for analysis.\n",
    "* Clean and replace missing data before analyzing."
   ]
  },
  {
   "cell_type": "markdown",
   "metadata": {},
   "source": [
    "# 2. Dropping irrelevant columns"
   ]
  },
  {
   "cell_type": "code",
   "execution_count": 6,
   "metadata": {},
   "outputs": [],
   "source": [
    "fifa.drop(['Photo','Flag','Club Logo','Jersey Number'],axis=1,inplace=True)"
   ]
  },
  {
   "cell_type": "code",
   "execution_count": 7,
   "metadata": {
    "scrolled": true
   },
   "outputs": [
    {
     "data": {
      "text/html": [
       "<div>\n",
       "<style scoped>\n",
       "    .dataframe tbody tr th:only-of-type {\n",
       "        vertical-align: middle;\n",
       "    }\n",
       "\n",
       "    .dataframe tbody tr th {\n",
       "        vertical-align: top;\n",
       "    }\n",
       "\n",
       "    .dataframe thead th {\n",
       "        text-align: right;\n",
       "    }\n",
       "</style>\n",
       "<table border=\"1\" class=\"dataframe\">\n",
       "  <thead>\n",
       "    <tr style=\"text-align: right;\">\n",
       "      <th></th>\n",
       "      <th>ID</th>\n",
       "      <th>Name</th>\n",
       "      <th>Age</th>\n",
       "      <th>Nationality</th>\n",
       "      <th>Overall</th>\n",
       "      <th>Potential</th>\n",
       "      <th>Club</th>\n",
       "      <th>Value</th>\n",
       "      <th>Wage</th>\n",
       "      <th>Preferred Foot</th>\n",
       "      <th>...</th>\n",
       "      <th>Composure</th>\n",
       "      <th>Marking</th>\n",
       "      <th>StandingTackle</th>\n",
       "      <th>SlidingTackle</th>\n",
       "      <th>GKDiving</th>\n",
       "      <th>GKHandling</th>\n",
       "      <th>GKKicking</th>\n",
       "      <th>GKPositioning</th>\n",
       "      <th>GKReflexes</th>\n",
       "      <th>Release Clause</th>\n",
       "    </tr>\n",
       "  </thead>\n",
       "  <tbody>\n",
       "    <tr>\n",
       "      <th>0</th>\n",
       "      <td>158023</td>\n",
       "      <td>L. Messi</td>\n",
       "      <td>31</td>\n",
       "      <td>Argentina</td>\n",
       "      <td>94</td>\n",
       "      <td>94</td>\n",
       "      <td>FC Barcelona</td>\n",
       "      <td>€110.5M</td>\n",
       "      <td>€565K</td>\n",
       "      <td>Left</td>\n",
       "      <td>...</td>\n",
       "      <td>96.0</td>\n",
       "      <td>33.0</td>\n",
       "      <td>28.0</td>\n",
       "      <td>26.0</td>\n",
       "      <td>6.0</td>\n",
       "      <td>11.0</td>\n",
       "      <td>15.0</td>\n",
       "      <td>14.0</td>\n",
       "      <td>8.0</td>\n",
       "      <td>€226.5M</td>\n",
       "    </tr>\n",
       "    <tr>\n",
       "      <th>1</th>\n",
       "      <td>20801</td>\n",
       "      <td>Cristiano Ronaldo</td>\n",
       "      <td>33</td>\n",
       "      <td>Portugal</td>\n",
       "      <td>94</td>\n",
       "      <td>94</td>\n",
       "      <td>Juventus</td>\n",
       "      <td>€77M</td>\n",
       "      <td>€405K</td>\n",
       "      <td>Right</td>\n",
       "      <td>...</td>\n",
       "      <td>95.0</td>\n",
       "      <td>28.0</td>\n",
       "      <td>31.0</td>\n",
       "      <td>23.0</td>\n",
       "      <td>7.0</td>\n",
       "      <td>11.0</td>\n",
       "      <td>15.0</td>\n",
       "      <td>14.0</td>\n",
       "      <td>11.0</td>\n",
       "      <td>€127.1M</td>\n",
       "    </tr>\n",
       "    <tr>\n",
       "      <th>2</th>\n",
       "      <td>190871</td>\n",
       "      <td>Neymar Jr</td>\n",
       "      <td>26</td>\n",
       "      <td>Brazil</td>\n",
       "      <td>92</td>\n",
       "      <td>93</td>\n",
       "      <td>Paris Saint-Germain</td>\n",
       "      <td>€118.5M</td>\n",
       "      <td>€290K</td>\n",
       "      <td>Right</td>\n",
       "      <td>...</td>\n",
       "      <td>94.0</td>\n",
       "      <td>27.0</td>\n",
       "      <td>24.0</td>\n",
       "      <td>33.0</td>\n",
       "      <td>9.0</td>\n",
       "      <td>9.0</td>\n",
       "      <td>15.0</td>\n",
       "      <td>15.0</td>\n",
       "      <td>11.0</td>\n",
       "      <td>€228.1M</td>\n",
       "    </tr>\n",
       "    <tr>\n",
       "      <th>3</th>\n",
       "      <td>193080</td>\n",
       "      <td>De Gea</td>\n",
       "      <td>27</td>\n",
       "      <td>Spain</td>\n",
       "      <td>91</td>\n",
       "      <td>93</td>\n",
       "      <td>Manchester United</td>\n",
       "      <td>€72M</td>\n",
       "      <td>€260K</td>\n",
       "      <td>Right</td>\n",
       "      <td>...</td>\n",
       "      <td>68.0</td>\n",
       "      <td>15.0</td>\n",
       "      <td>21.0</td>\n",
       "      <td>13.0</td>\n",
       "      <td>90.0</td>\n",
       "      <td>85.0</td>\n",
       "      <td>87.0</td>\n",
       "      <td>88.0</td>\n",
       "      <td>94.0</td>\n",
       "      <td>€138.6M</td>\n",
       "    </tr>\n",
       "    <tr>\n",
       "      <th>4</th>\n",
       "      <td>192985</td>\n",
       "      <td>K. De Bruyne</td>\n",
       "      <td>27</td>\n",
       "      <td>Belgium</td>\n",
       "      <td>91</td>\n",
       "      <td>92</td>\n",
       "      <td>Manchester City</td>\n",
       "      <td>€102M</td>\n",
       "      <td>€355K</td>\n",
       "      <td>Right</td>\n",
       "      <td>...</td>\n",
       "      <td>88.0</td>\n",
       "      <td>68.0</td>\n",
       "      <td>58.0</td>\n",
       "      <td>51.0</td>\n",
       "      <td>15.0</td>\n",
       "      <td>13.0</td>\n",
       "      <td>5.0</td>\n",
       "      <td>10.0</td>\n",
       "      <td>13.0</td>\n",
       "      <td>€196.4M</td>\n",
       "    </tr>\n",
       "  </tbody>\n",
       "</table>\n",
       "<p>5 rows × 56 columns</p>\n",
       "</div>"
      ],
      "text/plain": [
       "       ID               Name  Age Nationality  Overall  Potential  \\\n",
       "0  158023           L. Messi   31   Argentina       94         94   \n",
       "1   20801  Cristiano Ronaldo   33    Portugal       94         94   \n",
       "2  190871          Neymar Jr   26      Brazil       92         93   \n",
       "3  193080             De Gea   27       Spain       91         93   \n",
       "4  192985       K. De Bruyne   27     Belgium       91         92   \n",
       "\n",
       "                  Club    Value   Wage Preferred Foot  ...  Composure  \\\n",
       "0         FC Barcelona  €110.5M  €565K           Left  ...       96.0   \n",
       "1             Juventus     €77M  €405K          Right  ...       95.0   \n",
       "2  Paris Saint-Germain  €118.5M  €290K          Right  ...       94.0   \n",
       "3    Manchester United     €72M  €260K          Right  ...       68.0   \n",
       "4      Manchester City    €102M  €355K          Right  ...       88.0   \n",
       "\n",
       "   Marking  StandingTackle SlidingTackle GKDiving GKHandling GKKicking  \\\n",
       "0     33.0            28.0          26.0      6.0       11.0      15.0   \n",
       "1     28.0            31.0          23.0      7.0       11.0      15.0   \n",
       "2     27.0            24.0          33.0      9.0        9.0      15.0   \n",
       "3     15.0            21.0          13.0     90.0       85.0      87.0   \n",
       "4     68.0            58.0          51.0     15.0       13.0       5.0   \n",
       "\n",
       "  GKPositioning GKReflexes Release Clause  \n",
       "0          14.0        8.0        €226.5M  \n",
       "1          14.0       11.0        €127.1M  \n",
       "2          15.0       11.0        €228.1M  \n",
       "3          88.0       94.0        €138.6M  \n",
       "4          10.0       13.0        €196.4M  \n",
       "\n",
       "[5 rows x 56 columns]"
      ]
     },
     "execution_count": 7,
     "metadata": {},
     "output_type": "execute_result"
    }
   ],
   "source": [
    "fifa.head()"
   ]
  },
  {
   "cell_type": "markdown",
   "metadata": {},
   "source": [
    "# 3. Further Cleaning:\n",
    "\n",
    "Three major approached can be followed here:\n",
    "\n",
    "* Null check/Invalid data: Handling missing or inappropriate data.\n",
    "* Format issue: Checking if the values are in appropriate format.\n",
    "* Type check: Column should have the expected datatype."
   ]
  },
  {
   "cell_type": "code",
   "execution_count": 8,
   "metadata": {
    "scrolled": true
   },
   "outputs": [
    {
     "data": {
      "text/plain": [
       "Loaned From                 16943\n",
       "Release Clause               1564\n",
       "Joined                       1553\n",
       "Contract Valid Until          289\n",
       "Club                          241\n",
       "Position                       60\n",
       "International Reputation       48\n",
       "Crossing                       48\n",
       "FKAccuracy                     48\n",
       "GKReflexes                     48\n",
       "Dribbling                      48\n",
       "Volleys                        48\n",
       "ShortPassing                   48\n",
       "HeadingAccuracy                48\n",
       "Finishing                      48\n",
       "Weight                         48\n",
       "Weak Foot                      48\n",
       "Height                         48\n",
       "BallControl                    48\n",
       "Preferred Foot                 48\n",
       "Body Type                      48\n",
       "Work Rate                      48\n",
       "Skill Moves                    48\n",
       "LongPassing                    48\n",
       "Curve                          48\n",
       "Acceleration                   48\n",
       "Positioning                    48\n",
       "GKPositioning                  48\n",
       "GKKicking                      48\n",
       "GKHandling                     48\n",
       "GKDiving                       48\n",
       "SlidingTackle                  48\n",
       "StandingTackle                 48\n",
       "Marking                        48\n",
       "SprintSpeed                    48\n",
       "Penalties                      48\n",
       "Vision                         48\n",
       "Composure                      48\n",
       "Interceptions                  48\n",
       "LongShots                      48\n",
       "Strength                       48\n",
       "Stamina                        48\n",
       "Jumping                        48\n",
       "ShotPower                      48\n",
       "Balance                        48\n",
       "Reactions                      48\n",
       "Aggression                     48\n",
       "Agility                        48\n",
       "Nationality                     0\n",
       "Name                            0\n",
       "Age                             0\n",
       "Wage                            0\n",
       "Overall                         0\n",
       "Potential                       0\n",
       "Value                           0\n",
       "ID                              0\n",
       "dtype: int64"
      ]
     },
     "execution_count": 8,
     "metadata": {},
     "output_type": "execute_result"
    }
   ],
   "source": [
    "fifa.isnull().sum().sort_values(ascending = False)"
   ]
  },
  {
   "cell_type": "markdown",
   "metadata": {},
   "source": [
    "## Loaned From"
   ]
  },
  {
   "cell_type": "code",
   "execution_count": 9,
   "metadata": {
    "scrolled": true
   },
   "outputs": [
    {
     "data": {
      "text/plain": [
       "0        NaN\n",
       "1        NaN\n",
       "2        NaN\n",
       "3        NaN\n",
       "4        NaN\n",
       "        ... \n",
       "18202    NaN\n",
       "18203    NaN\n",
       "18204    NaN\n",
       "18205    NaN\n",
       "18206    NaN\n",
       "Name: Loaned From, Length: 18207, dtype: object"
      ]
     },
     "execution_count": 9,
     "metadata": {},
     "output_type": "execute_result"
    }
   ],
   "source": [
    "fifa['Loaned From']"
   ]
  },
  {
   "cell_type": "code",
   "execution_count": 10,
   "metadata": {},
   "outputs": [
    {
     "data": {
      "text/plain": [
       "93.05761520294392"
      ]
     },
     "execution_count": 10,
     "metadata": {},
     "output_type": "execute_result"
    }
   ],
   "source": [
    "fifa['Loaned From'].isnull().sum()/len(fifa)*100 #93% of the data is missing from Loaned From"
   ]
  },
  {
   "cell_type": "markdown",
   "metadata": {},
   "source": [
    "#### Approach\n",
    "\n",
    "It has high number(93%) of missing values and replacing wih a valid might not help attaining good results, so removing the whole column as such."
   ]
  },
  {
   "cell_type": "code",
   "execution_count": 11,
   "metadata": {},
   "outputs": [],
   "source": [
    "fifa.drop(['Loaned From'],axis=1,inplace=True)"
   ]
  },
  {
   "cell_type": "code",
   "execution_count": 12,
   "metadata": {},
   "outputs": [
    {
     "data": {
      "text/html": [
       "<div>\n",
       "<style scoped>\n",
       "    .dataframe tbody tr th:only-of-type {\n",
       "        vertical-align: middle;\n",
       "    }\n",
       "\n",
       "    .dataframe tbody tr th {\n",
       "        vertical-align: top;\n",
       "    }\n",
       "\n",
       "    .dataframe thead th {\n",
       "        text-align: right;\n",
       "    }\n",
       "</style>\n",
       "<table border=\"1\" class=\"dataframe\">\n",
       "  <thead>\n",
       "    <tr style=\"text-align: right;\">\n",
       "      <th></th>\n",
       "      <th>ID</th>\n",
       "      <th>Name</th>\n",
       "      <th>Age</th>\n",
       "      <th>Nationality</th>\n",
       "      <th>Overall</th>\n",
       "      <th>Potential</th>\n",
       "      <th>Club</th>\n",
       "      <th>Value</th>\n",
       "      <th>Wage</th>\n",
       "      <th>Preferred Foot</th>\n",
       "      <th>...</th>\n",
       "      <th>Composure</th>\n",
       "      <th>Marking</th>\n",
       "      <th>StandingTackle</th>\n",
       "      <th>SlidingTackle</th>\n",
       "      <th>GKDiving</th>\n",
       "      <th>GKHandling</th>\n",
       "      <th>GKKicking</th>\n",
       "      <th>GKPositioning</th>\n",
       "      <th>GKReflexes</th>\n",
       "      <th>Release Clause</th>\n",
       "    </tr>\n",
       "  </thead>\n",
       "  <tbody>\n",
       "    <tr>\n",
       "      <th>0</th>\n",
       "      <td>158023</td>\n",
       "      <td>L. Messi</td>\n",
       "      <td>31</td>\n",
       "      <td>Argentina</td>\n",
       "      <td>94</td>\n",
       "      <td>94</td>\n",
       "      <td>FC Barcelona</td>\n",
       "      <td>€110.5M</td>\n",
       "      <td>€565K</td>\n",
       "      <td>Left</td>\n",
       "      <td>...</td>\n",
       "      <td>96.0</td>\n",
       "      <td>33.0</td>\n",
       "      <td>28.0</td>\n",
       "      <td>26.0</td>\n",
       "      <td>6.0</td>\n",
       "      <td>11.0</td>\n",
       "      <td>15.0</td>\n",
       "      <td>14.0</td>\n",
       "      <td>8.0</td>\n",
       "      <td>€226.5M</td>\n",
       "    </tr>\n",
       "    <tr>\n",
       "      <th>1</th>\n",
       "      <td>20801</td>\n",
       "      <td>Cristiano Ronaldo</td>\n",
       "      <td>33</td>\n",
       "      <td>Portugal</td>\n",
       "      <td>94</td>\n",
       "      <td>94</td>\n",
       "      <td>Juventus</td>\n",
       "      <td>€77M</td>\n",
       "      <td>€405K</td>\n",
       "      <td>Right</td>\n",
       "      <td>...</td>\n",
       "      <td>95.0</td>\n",
       "      <td>28.0</td>\n",
       "      <td>31.0</td>\n",
       "      <td>23.0</td>\n",
       "      <td>7.0</td>\n",
       "      <td>11.0</td>\n",
       "      <td>15.0</td>\n",
       "      <td>14.0</td>\n",
       "      <td>11.0</td>\n",
       "      <td>€127.1M</td>\n",
       "    </tr>\n",
       "    <tr>\n",
       "      <th>2</th>\n",
       "      <td>190871</td>\n",
       "      <td>Neymar Jr</td>\n",
       "      <td>26</td>\n",
       "      <td>Brazil</td>\n",
       "      <td>92</td>\n",
       "      <td>93</td>\n",
       "      <td>Paris Saint-Germain</td>\n",
       "      <td>€118.5M</td>\n",
       "      <td>€290K</td>\n",
       "      <td>Right</td>\n",
       "      <td>...</td>\n",
       "      <td>94.0</td>\n",
       "      <td>27.0</td>\n",
       "      <td>24.0</td>\n",
       "      <td>33.0</td>\n",
       "      <td>9.0</td>\n",
       "      <td>9.0</td>\n",
       "      <td>15.0</td>\n",
       "      <td>15.0</td>\n",
       "      <td>11.0</td>\n",
       "      <td>€228.1M</td>\n",
       "    </tr>\n",
       "    <tr>\n",
       "      <th>3</th>\n",
       "      <td>193080</td>\n",
       "      <td>De Gea</td>\n",
       "      <td>27</td>\n",
       "      <td>Spain</td>\n",
       "      <td>91</td>\n",
       "      <td>93</td>\n",
       "      <td>Manchester United</td>\n",
       "      <td>€72M</td>\n",
       "      <td>€260K</td>\n",
       "      <td>Right</td>\n",
       "      <td>...</td>\n",
       "      <td>68.0</td>\n",
       "      <td>15.0</td>\n",
       "      <td>21.0</td>\n",
       "      <td>13.0</td>\n",
       "      <td>90.0</td>\n",
       "      <td>85.0</td>\n",
       "      <td>87.0</td>\n",
       "      <td>88.0</td>\n",
       "      <td>94.0</td>\n",
       "      <td>€138.6M</td>\n",
       "    </tr>\n",
       "    <tr>\n",
       "      <th>4</th>\n",
       "      <td>192985</td>\n",
       "      <td>K. De Bruyne</td>\n",
       "      <td>27</td>\n",
       "      <td>Belgium</td>\n",
       "      <td>91</td>\n",
       "      <td>92</td>\n",
       "      <td>Manchester City</td>\n",
       "      <td>€102M</td>\n",
       "      <td>€355K</td>\n",
       "      <td>Right</td>\n",
       "      <td>...</td>\n",
       "      <td>88.0</td>\n",
       "      <td>68.0</td>\n",
       "      <td>58.0</td>\n",
       "      <td>51.0</td>\n",
       "      <td>15.0</td>\n",
       "      <td>13.0</td>\n",
       "      <td>5.0</td>\n",
       "      <td>10.0</td>\n",
       "      <td>13.0</td>\n",
       "      <td>€196.4M</td>\n",
       "    </tr>\n",
       "  </tbody>\n",
       "</table>\n",
       "<p>5 rows × 55 columns</p>\n",
       "</div>"
      ],
      "text/plain": [
       "       ID               Name  Age Nationality  Overall  Potential  \\\n",
       "0  158023           L. Messi   31   Argentina       94         94   \n",
       "1   20801  Cristiano Ronaldo   33    Portugal       94         94   \n",
       "2  190871          Neymar Jr   26      Brazil       92         93   \n",
       "3  193080             De Gea   27       Spain       91         93   \n",
       "4  192985       K. De Bruyne   27     Belgium       91         92   \n",
       "\n",
       "                  Club    Value   Wage Preferred Foot  ...  Composure  \\\n",
       "0         FC Barcelona  €110.5M  €565K           Left  ...       96.0   \n",
       "1             Juventus     €77M  €405K          Right  ...       95.0   \n",
       "2  Paris Saint-Germain  €118.5M  €290K          Right  ...       94.0   \n",
       "3    Manchester United     €72M  €260K          Right  ...       68.0   \n",
       "4      Manchester City    €102M  €355K          Right  ...       88.0   \n",
       "\n",
       "   Marking  StandingTackle SlidingTackle GKDiving GKHandling GKKicking  \\\n",
       "0     33.0            28.0          26.0      6.0       11.0      15.0   \n",
       "1     28.0            31.0          23.0      7.0       11.0      15.0   \n",
       "2     27.0            24.0          33.0      9.0        9.0      15.0   \n",
       "3     15.0            21.0          13.0     90.0       85.0      87.0   \n",
       "4     68.0            58.0          51.0     15.0       13.0       5.0   \n",
       "\n",
       "  GKPositioning GKReflexes Release Clause  \n",
       "0          14.0        8.0        €226.5M  \n",
       "1          14.0       11.0        €127.1M  \n",
       "2          15.0       11.0        €228.1M  \n",
       "3          88.0       94.0        €138.6M  \n",
       "4          10.0       13.0        €196.4M  \n",
       "\n",
       "[5 rows x 55 columns]"
      ]
     },
     "execution_count": 12,
     "metadata": {},
     "output_type": "execute_result"
    }
   ],
   "source": [
    "fifa.head()"
   ]
  },
  {
   "cell_type": "markdown",
   "metadata": {},
   "source": [
    "## Value & Wage Columns:"
   ]
  },
  {
   "cell_type": "code",
   "execution_count": 13,
   "metadata": {
    "scrolled": true
   },
   "outputs": [
    {
     "data": {
      "text/html": [
       "<div>\n",
       "<style scoped>\n",
       "    .dataframe tbody tr th:only-of-type {\n",
       "        vertical-align: middle;\n",
       "    }\n",
       "\n",
       "    .dataframe tbody tr th {\n",
       "        vertical-align: top;\n",
       "    }\n",
       "\n",
       "    .dataframe thead th {\n",
       "        text-align: right;\n",
       "    }\n",
       "</style>\n",
       "<table border=\"1\" class=\"dataframe\">\n",
       "  <thead>\n",
       "    <tr style=\"text-align: right;\">\n",
       "      <th></th>\n",
       "      <th>Value</th>\n",
       "      <th>Wage</th>\n",
       "    </tr>\n",
       "  </thead>\n",
       "  <tbody>\n",
       "    <tr>\n",
       "      <th>0</th>\n",
       "      <td>€110.5M</td>\n",
       "      <td>€565K</td>\n",
       "    </tr>\n",
       "    <tr>\n",
       "      <th>1</th>\n",
       "      <td>€77M</td>\n",
       "      <td>€405K</td>\n",
       "    </tr>\n",
       "    <tr>\n",
       "      <th>2</th>\n",
       "      <td>€118.5M</td>\n",
       "      <td>€290K</td>\n",
       "    </tr>\n",
       "    <tr>\n",
       "      <th>3</th>\n",
       "      <td>€72M</td>\n",
       "      <td>€260K</td>\n",
       "    </tr>\n",
       "    <tr>\n",
       "      <th>4</th>\n",
       "      <td>€102M</td>\n",
       "      <td>€355K</td>\n",
       "    </tr>\n",
       "    <tr>\n",
       "      <th>5</th>\n",
       "      <td>€93M</td>\n",
       "      <td>€340K</td>\n",
       "    </tr>\n",
       "    <tr>\n",
       "      <th>6</th>\n",
       "      <td>€67M</td>\n",
       "      <td>€420K</td>\n",
       "    </tr>\n",
       "    <tr>\n",
       "      <th>7</th>\n",
       "      <td>€80M</td>\n",
       "      <td>€455K</td>\n",
       "    </tr>\n",
       "    <tr>\n",
       "      <th>8</th>\n",
       "      <td>€51M</td>\n",
       "      <td>€380K</td>\n",
       "    </tr>\n",
       "    <tr>\n",
       "      <th>9</th>\n",
       "      <td>€68M</td>\n",
       "      <td>€94K</td>\n",
       "    </tr>\n",
       "  </tbody>\n",
       "</table>\n",
       "</div>"
      ],
      "text/plain": [
       "     Value   Wage\n",
       "0  €110.5M  €565K\n",
       "1     €77M  €405K\n",
       "2  €118.5M  €290K\n",
       "3     €72M  €260K\n",
       "4    €102M  €355K\n",
       "5     €93M  €340K\n",
       "6     €67M  €420K\n",
       "7     €80M  €455K\n",
       "8     €51M  €380K\n",
       "9     €68M   €94K"
      ]
     },
     "execution_count": 13,
     "metadata": {},
     "output_type": "execute_result"
    }
   ],
   "source": [
    "fifa[['Value','Wage']].head(10)"
   ]
  },
  {
   "cell_type": "markdown",
   "metadata": {},
   "source": [
    "### Approach\n",
    "\n",
    "* Value & Wage values are amount with Euro symbol as prefix and suffix ‘K’ or ‘M’ indicating thousands and millions respectively.\n",
    "* Check if all the columns are having € and get rid of it.\n",
    "* Replace each 'K' or 'M' with respective 1000 or 1000000 values."
   ]
  },
  {
   "cell_type": "code",
   "execution_count": 14,
   "metadata": {},
   "outputs": [],
   "source": [
    "def clean(x):\n",
    "    x = str(x)\n",
    "    if '€' in x:\n",
    "        x = x.replace('€','')\n",
    "    if \"M\" in x:\n",
    "        x = x.replace('M','')\n",
    "        x = str(float(x) * 1000000)\n",
    "    if \"K\" in x:\n",
    "        x = x.replace('K','')\n",
    "        x = str(float(x)*1000)\n",
    "    return x"
   ]
  },
  {
   "cell_type": "code",
   "execution_count": 15,
   "metadata": {},
   "outputs": [],
   "source": [
    "fifa['Value']=fifa['Value'].apply(clean)"
   ]
  },
  {
   "cell_type": "code",
   "execution_count": 16,
   "metadata": {},
   "outputs": [],
   "source": [
    "fifa['Value']=pd.to_numeric(fifa['Value'])"
   ]
  },
  {
   "cell_type": "code",
   "execution_count": 17,
   "metadata": {},
   "outputs": [],
   "source": [
    "fifa['Wage']=fifa['Wage'].apply(clean)"
   ]
  },
  {
   "cell_type": "code",
   "execution_count": 18,
   "metadata": {},
   "outputs": [],
   "source": [
    "fifa['Wage']=pd.to_numeric(fifa['Wage'])"
   ]
  },
  {
   "cell_type": "code",
   "execution_count": 19,
   "metadata": {},
   "outputs": [
    {
     "name": "stdout",
     "output_type": "stream",
     "text": [
      "<class 'pandas.core.frame.DataFrame'>\n",
      "RangeIndex: 18207 entries, 0 to 18206\n",
      "Data columns (total 55 columns):\n",
      " #   Column                    Non-Null Count  Dtype  \n",
      "---  ------                    --------------  -----  \n",
      " 0   ID                        18207 non-null  int64  \n",
      " 1   Name                      18207 non-null  object \n",
      " 2   Age                       18207 non-null  int64  \n",
      " 3   Nationality               18207 non-null  object \n",
      " 4   Overall                   18207 non-null  int64  \n",
      " 5   Potential                 18207 non-null  int64  \n",
      " 6   Club                      17966 non-null  object \n",
      " 7   Value                     18207 non-null  float64\n",
      " 8   Wage                      18207 non-null  float64\n",
      " 9   Preferred Foot            18159 non-null  object \n",
      " 10  International Reputation  18159 non-null  float64\n",
      " 11  Weak Foot                 18159 non-null  float64\n",
      " 12  Skill Moves               18159 non-null  float64\n",
      " 13  Work Rate                 18159 non-null  object \n",
      " 14  Body Type                 18159 non-null  object \n",
      " 15  Position                  18147 non-null  object \n",
      " 16  Joined                    16654 non-null  object \n",
      " 17  Contract Valid Until      17918 non-null  object \n",
      " 18  Height                    18159 non-null  object \n",
      " 19  Weight                    18159 non-null  object \n",
      " 20  Crossing                  18159 non-null  float64\n",
      " 21  Finishing                 18159 non-null  float64\n",
      " 22  HeadingAccuracy           18159 non-null  float64\n",
      " 23  ShortPassing              18159 non-null  float64\n",
      " 24  Volleys                   18159 non-null  float64\n",
      " 25  Dribbling                 18159 non-null  float64\n",
      " 26  Curve                     18159 non-null  float64\n",
      " 27  FKAccuracy                18159 non-null  float64\n",
      " 28  LongPassing               18159 non-null  float64\n",
      " 29  BallControl               18159 non-null  float64\n",
      " 30  Acceleration              18159 non-null  float64\n",
      " 31  SprintSpeed               18159 non-null  float64\n",
      " 32  Agility                   18159 non-null  float64\n",
      " 33  Reactions                 18159 non-null  float64\n",
      " 34  Balance                   18159 non-null  float64\n",
      " 35  ShotPower                 18159 non-null  float64\n",
      " 36  Jumping                   18159 non-null  float64\n",
      " 37  Stamina                   18159 non-null  float64\n",
      " 38  Strength                  18159 non-null  float64\n",
      " 39  LongShots                 18159 non-null  float64\n",
      " 40  Aggression                18159 non-null  float64\n",
      " 41  Interceptions             18159 non-null  float64\n",
      " 42  Positioning               18159 non-null  float64\n",
      " 43  Vision                    18159 non-null  float64\n",
      " 44  Penalties                 18159 non-null  float64\n",
      " 45  Composure                 18159 non-null  float64\n",
      " 46  Marking                   18159 non-null  float64\n",
      " 47  StandingTackle            18159 non-null  float64\n",
      " 48  SlidingTackle             18159 non-null  float64\n",
      " 49  GKDiving                  18159 non-null  float64\n",
      " 50  GKHandling                18159 non-null  float64\n",
      " 51  GKKicking                 18159 non-null  float64\n",
      " 52  GKPositioning             18159 non-null  float64\n",
      " 53  GKReflexes                18159 non-null  float64\n",
      " 54  Release Clause            16643 non-null  object \n",
      "dtypes: float64(39), int64(4), object(12)\n",
      "memory usage: 7.6+ MB\n"
     ]
    }
   ],
   "source": [
    "fifa.info()"
   ]
  },
  {
   "cell_type": "code",
   "execution_count": 20,
   "metadata": {
    "scrolled": true
   },
   "outputs": [
    {
     "data": {
      "text/html": [
       "<div>\n",
       "<style scoped>\n",
       "    .dataframe tbody tr th:only-of-type {\n",
       "        vertical-align: middle;\n",
       "    }\n",
       "\n",
       "    .dataframe tbody tr th {\n",
       "        vertical-align: top;\n",
       "    }\n",
       "\n",
       "    .dataframe thead th {\n",
       "        text-align: right;\n",
       "    }\n",
       "</style>\n",
       "<table border=\"1\" class=\"dataframe\">\n",
       "  <thead>\n",
       "    <tr style=\"text-align: right;\">\n",
       "      <th></th>\n",
       "      <th>Value</th>\n",
       "      <th>Wage</th>\n",
       "    </tr>\n",
       "  </thead>\n",
       "  <tbody>\n",
       "    <tr>\n",
       "      <th>0</th>\n",
       "      <td>110500000.0</td>\n",
       "      <td>565000.0</td>\n",
       "    </tr>\n",
       "    <tr>\n",
       "      <th>1</th>\n",
       "      <td>77000000.0</td>\n",
       "      <td>405000.0</td>\n",
       "    </tr>\n",
       "    <tr>\n",
       "      <th>2</th>\n",
       "      <td>118500000.0</td>\n",
       "      <td>290000.0</td>\n",
       "    </tr>\n",
       "    <tr>\n",
       "      <th>3</th>\n",
       "      <td>72000000.0</td>\n",
       "      <td>260000.0</td>\n",
       "    </tr>\n",
       "    <tr>\n",
       "      <th>4</th>\n",
       "      <td>102000000.0</td>\n",
       "      <td>355000.0</td>\n",
       "    </tr>\n",
       "    <tr>\n",
       "      <th>...</th>\n",
       "      <td>...</td>\n",
       "      <td>...</td>\n",
       "    </tr>\n",
       "    <tr>\n",
       "      <th>18202</th>\n",
       "      <td>60000.0</td>\n",
       "      <td>1000.0</td>\n",
       "    </tr>\n",
       "    <tr>\n",
       "      <th>18203</th>\n",
       "      <td>60000.0</td>\n",
       "      <td>1000.0</td>\n",
       "    </tr>\n",
       "    <tr>\n",
       "      <th>18204</th>\n",
       "      <td>60000.0</td>\n",
       "      <td>1000.0</td>\n",
       "    </tr>\n",
       "    <tr>\n",
       "      <th>18205</th>\n",
       "      <td>60000.0</td>\n",
       "      <td>1000.0</td>\n",
       "    </tr>\n",
       "    <tr>\n",
       "      <th>18206</th>\n",
       "      <td>60000.0</td>\n",
       "      <td>1000.0</td>\n",
       "    </tr>\n",
       "  </tbody>\n",
       "</table>\n",
       "<p>18207 rows × 2 columns</p>\n",
       "</div>"
      ],
      "text/plain": [
       "             Value      Wage\n",
       "0      110500000.0  565000.0\n",
       "1       77000000.0  405000.0\n",
       "2      118500000.0  290000.0\n",
       "3       72000000.0  260000.0\n",
       "4      102000000.0  355000.0\n",
       "...            ...       ...\n",
       "18202      60000.0    1000.0\n",
       "18203      60000.0    1000.0\n",
       "18204      60000.0    1000.0\n",
       "18205      60000.0    1000.0\n",
       "18206      60000.0    1000.0\n",
       "\n",
       "[18207 rows x 2 columns]"
      ]
     },
     "execution_count": 20,
     "metadata": {},
     "output_type": "execute_result"
    }
   ],
   "source": [
    "pd.concat([fifa['Value'],fifa['Wage']],axis=1)"
   ]
  },
  {
   "cell_type": "markdown",
   "metadata": {},
   "source": [
    "## Release Clause"
   ]
  },
  {
   "cell_type": "code",
   "execution_count": 21,
   "metadata": {},
   "outputs": [
    {
     "data": {
      "text/plain": [
       "0    €226.5M\n",
       "1    €127.1M\n",
       "2    €228.1M\n",
       "3    €138.6M\n",
       "4    €196.4M\n",
       "Name: Release Clause, dtype: object"
      ]
     },
     "execution_count": 21,
     "metadata": {},
     "output_type": "execute_result"
    }
   ],
   "source": [
    "fifa[\"Release Clause\"].head()"
   ]
  },
  {
   "cell_type": "code",
   "execution_count": 22,
   "metadata": {},
   "outputs": [
    {
     "data": {
      "text/plain": [
       "1564"
      ]
     },
     "execution_count": 22,
     "metadata": {},
     "output_type": "execute_result"
    }
   ],
   "source": [
    "fifa[\"Release Clause\"].isnull().sum()"
   ]
  },
  {
   "cell_type": "code",
   "execution_count": 23,
   "metadata": {
    "scrolled": true
   },
   "outputs": [
    {
     "data": {
      "text/plain": [
       "8.590102707749766"
      ]
     },
     "execution_count": 23,
     "metadata": {},
     "output_type": "execute_result"
    }
   ],
   "source": [
    "fifa[\"Release Clause\"].isnull().sum()/len(fifa)*100 #only 8% data is missing "
   ]
  },
  {
   "cell_type": "code",
   "execution_count": 24,
   "metadata": {},
   "outputs": [],
   "source": [
    "fifa[\"Release Clause\"]=fifa[\"Release Clause\"].apply(clean)"
   ]
  },
  {
   "cell_type": "code",
   "execution_count": 25,
   "metadata": {
    "scrolled": true
   },
   "outputs": [
    {
     "data": {
      "text/plain": [
       "0    226500000.0\n",
       "1    127100000.0\n",
       "2    228100000.0\n",
       "3    138600000.0\n",
       "4    196400000.0\n",
       "Name: Release Clause, dtype: object"
      ]
     },
     "execution_count": 25,
     "metadata": {},
     "output_type": "execute_result"
    }
   ],
   "source": [
    "fifa[\"Release Clause\"].head()"
   ]
  },
  {
   "cell_type": "code",
   "execution_count": 26,
   "metadata": {
    "scrolled": true
   },
   "outputs": [],
   "source": [
    "fifa[\"Release Clause\"]=fifa[\"Release Clause\"].astype(float)"
   ]
  },
  {
   "cell_type": "code",
   "execution_count": 27,
   "metadata": {},
   "outputs": [
    {
     "data": {
      "text/plain": [
       "count    1.664300e+04\n",
       "mean     4.585061e+06\n",
       "std      1.111872e+07\n",
       "min      1.300000e+04\n",
       "25%      5.250000e+05\n",
       "50%      1.100000e+06\n",
       "75%      3.500000e+06\n",
       "max      2.281000e+08\n",
       "Name: Release Clause, dtype: float64"
      ]
     },
     "execution_count": 27,
     "metadata": {},
     "output_type": "execute_result"
    }
   ],
   "source": [
    "fifa[\"Release Clause\"].describe()"
   ]
  },
  {
   "cell_type": "code",
   "execution_count": 28,
   "metadata": {},
   "outputs": [],
   "source": [
    "fifa[\"Release Clause\"]=fifa[\"Release Clause\"].fillna(fifa[\"Release Clause\"].mean())"
   ]
  },
  {
   "cell_type": "code",
   "execution_count": 29,
   "metadata": {},
   "outputs": [
    {
     "data": {
      "text/plain": [
       "0"
      ]
     },
     "execution_count": 29,
     "metadata": {},
     "output_type": "execute_result"
    }
   ],
   "source": [
    "fifa[\"Release Clause\"].isnull().sum()"
   ]
  },
  {
   "cell_type": "markdown",
   "metadata": {},
   "source": [
    "### Approach\n",
    "\n",
    "* Release Clause can be processed similar to Value and Wage\n",
    "* Almost 91% of the entries are not null hence replacing with a meaningful value (Median or mean) will be a good option."
   ]
  },
  {
   "cell_type": "markdown",
   "metadata": {},
   "source": [
    "## Joined"
   ]
  },
  {
   "cell_type": "code",
   "execution_count": 30,
   "metadata": {},
   "outputs": [
    {
     "data": {
      "text/plain": [
       "1553"
      ]
     },
     "execution_count": 30,
     "metadata": {},
     "output_type": "execute_result"
    }
   ],
   "source": [
    "fifa['Joined'].isnull().sum()"
   ]
  },
  {
   "cell_type": "code",
   "execution_count": 31,
   "metadata": {
    "scrolled": true
   },
   "outputs": [
    {
     "data": {
      "text/plain": [
       "0     Jul 1, 2004\n",
       "1    Jul 10, 2018\n",
       "2     Aug 3, 2017\n",
       "3     Jul 1, 2011\n",
       "4    Aug 30, 2015\n",
       "Name: Joined, dtype: object"
      ]
     },
     "execution_count": 31,
     "metadata": {},
     "output_type": "execute_result"
    }
   ],
   "source": [
    "fifa['Joined'].head()"
   ]
  },
  {
   "cell_type": "code",
   "execution_count": 32,
   "metadata": {},
   "outputs": [],
   "source": [
    "fifa['Joined']= pd.to_datetime(fifa['Joined'])"
   ]
  },
  {
   "cell_type": "code",
   "execution_count": 33,
   "metadata": {
    "scrolled": false
   },
   "outputs": [],
   "source": [
    "fifa['Joined_Year']=fifa['Joined'].apply(lambda x : x.year)"
   ]
  },
  {
   "cell_type": "code",
   "execution_count": 34,
   "metadata": {
    "scrolled": false
   },
   "outputs": [
    {
     "data": {
      "text/plain": [
       "count    16654.000000\n",
       "mean      2016.459829\n",
       "std          2.105924\n",
       "min       1991.000000\n",
       "25%       2016.000000\n",
       "50%       2017.000000\n",
       "75%       2018.000000\n",
       "max       2018.000000\n",
       "Name: Joined_Year, dtype: float64"
      ]
     },
     "execution_count": 34,
     "metadata": {},
     "output_type": "execute_result"
    }
   ],
   "source": [
    "fifa['Joined_Year'].describe()"
   ]
  },
  {
   "cell_type": "code",
   "execution_count": 35,
   "metadata": {},
   "outputs": [],
   "source": [
    "fifa['Joined_Year']=fifa['Joined_Year'].fillna(fifa['Joined_Year']).mean()"
   ]
  },
  {
   "cell_type": "code",
   "execution_count": 36,
   "metadata": {},
   "outputs": [
    {
     "data": {
      "text/plain": [
       "0"
      ]
     },
     "execution_count": 36,
     "metadata": {},
     "output_type": "execute_result"
    }
   ],
   "source": [
    "fifa['Joined_Year'].isnull().sum()"
   ]
  },
  {
   "cell_type": "code",
   "execution_count": 37,
   "metadata": {},
   "outputs": [],
   "source": [
    "fifa.drop(['Joined'],axis=1,inplace=True)"
   ]
  },
  {
   "cell_type": "markdown",
   "metadata": {},
   "source": [
    "### Approach\n",
    "* Since we dont require the exact date in this scenario, changing the formatting of the Date to year only format.\n",
    "* There are a few NaN values, replacing with a meaningful value (Median or mean) will be a good option."
   ]
  },
  {
   "cell_type": "markdown",
   "metadata": {},
   "source": [
    "## Contract Valid Until"
   ]
  },
  {
   "cell_type": "code",
   "execution_count": 38,
   "metadata": {},
   "outputs": [
    {
     "data": {
      "text/plain": [
       "0        2021\n",
       "1        2022\n",
       "2        2022\n",
       "3        2020\n",
       "4        2023\n",
       "         ... \n",
       "18202    2019\n",
       "18203    2020\n",
       "18204    2021\n",
       "18205    2019\n",
       "18206    2019\n",
       "Name: Contract Valid Until, Length: 18207, dtype: object"
      ]
     },
     "execution_count": 38,
     "metadata": {},
     "output_type": "execute_result"
    }
   ],
   "source": [
    "fifa['Contract Valid Until']"
   ]
  },
  {
   "cell_type": "code",
   "execution_count": 39,
   "metadata": {},
   "outputs": [
    {
     "data": {
      "text/plain": [
       "dtype('O')"
      ]
     },
     "execution_count": 39,
     "metadata": {},
     "output_type": "execute_result"
    }
   ],
   "source": [
    "fifa['Contract Valid Until'].dtype #data type is object"
   ]
  },
  {
   "cell_type": "code",
   "execution_count": 40,
   "metadata": {},
   "outputs": [],
   "source": [
    "# Converting to datatime format\n",
    "fifa['Contract Valid Until']=pd.to_datetime(fifa['Contract Valid Until'])"
   ]
  },
  {
   "cell_type": "code",
   "execution_count": 41,
   "metadata": {},
   "outputs": [
    {
     "data": {
      "text/plain": [
       "dtype('<M8[ns]')"
      ]
     },
     "execution_count": 41,
     "metadata": {},
     "output_type": "execute_result"
    }
   ],
   "source": [
    "fifa['Contract Valid Until'].dtype"
   ]
  },
  {
   "cell_type": "code",
   "execution_count": 42,
   "metadata": {},
   "outputs": [
    {
     "data": {
      "text/plain": [
       "289"
      ]
     },
     "execution_count": 42,
     "metadata": {},
     "output_type": "execute_result"
    }
   ],
   "source": [
    "fifa['Contract Valid Until'].isnull().sum()"
   ]
  },
  {
   "cell_type": "code",
   "execution_count": 43,
   "metadata": {},
   "outputs": [],
   "source": [
    "fifa['Contract Valid Until']=fifa['Contract Valid Until'].apply(lambda x : x.year)"
   ]
  },
  {
   "cell_type": "code",
   "execution_count": 44,
   "metadata": {
    "scrolled": false
   },
   "outputs": [
    {
     "data": {
      "text/plain": [
       "count    17918.000000\n",
       "mean      2020.146668\n",
       "std          1.294468\n",
       "min       2018.000000\n",
       "25%       2019.000000\n",
       "50%       2020.000000\n",
       "75%       2021.000000\n",
       "max       2026.000000\n",
       "Name: Contract Valid Until, dtype: float64"
      ]
     },
     "execution_count": 44,
     "metadata": {},
     "output_type": "execute_result"
    }
   ],
   "source": [
    "fifa['Contract Valid Until'].describe()"
   ]
  },
  {
   "cell_type": "code",
   "execution_count": 87,
   "metadata": {},
   "outputs": [],
   "source": [
    "fifa['Contract Valid Until']=fifa['Contract Valid Until'].fillna(2020)"
   ]
  },
  {
   "cell_type": "code",
   "execution_count": 88,
   "metadata": {},
   "outputs": [
    {
     "data": {
      "text/plain": [
       "0"
      ]
     },
     "execution_count": 88,
     "metadata": {},
     "output_type": "execute_result"
    }
   ],
   "source": [
    "fifa['Contract Valid Until'].isnull().sum()"
   ]
  },
  {
   "cell_type": "markdown",
   "metadata": {},
   "source": [
    "### Approach\n",
    "* Some entries are null hence replacing with a mean will be a good option.\n",
    "* Converting type of column to date time."
   ]
  },
  {
   "cell_type": "markdown",
   "metadata": {},
   "source": [
    "## Height"
   ]
  },
  {
   "cell_type": "code",
   "execution_count": 47,
   "metadata": {
    "scrolled": true
   },
   "outputs": [
    {
     "data": {
      "text/plain": [
       "0         5'7\n",
       "1         6'2\n",
       "2         5'9\n",
       "3         6'4\n",
       "4        5'11\n",
       "         ... \n",
       "18202     5'9\n",
       "18203     6'3\n",
       "18204     5'8\n",
       "18205    5'10\n",
       "18206    5'10\n",
       "Name: Height, Length: 18207, dtype: object"
      ]
     },
     "execution_count": 47,
     "metadata": {},
     "output_type": "execute_result"
    }
   ],
   "source": [
    "fifa.Height"
   ]
  },
  {
   "cell_type": "code",
   "execution_count": 48,
   "metadata": {},
   "outputs": [],
   "source": [
    "def h(x):\n",
    "    x=str(x)\n",
    "    if \"'\" in x:\n",
    "        x=x.replace(\"'\",\".\")\n",
    "    return x\n",
    "    \n"
   ]
  },
  {
   "cell_type": "code",
   "execution_count": 49,
   "metadata": {
    "scrolled": true
   },
   "outputs": [
    {
     "data": {
      "text/plain": [
       "0         5.7\n",
       "1         6.2\n",
       "2         5.9\n",
       "3         6.4\n",
       "4        5.11\n",
       "         ... \n",
       "18202     5.9\n",
       "18203     6.3\n",
       "18204     5.8\n",
       "18205    5.10\n",
       "18206    5.10\n",
       "Name: Height, Length: 18207, dtype: object"
      ]
     },
     "execution_count": 49,
     "metadata": {},
     "output_type": "execute_result"
    }
   ],
   "source": [
    "fifa['Height']=fifa.Height.apply(h)\n",
    "fifa['Height']"
   ]
  },
  {
   "cell_type": "code",
   "execution_count": 56,
   "metadata": {
    "scrolled": true
   },
   "outputs": [
    {
     "data": {
      "text/plain": [
       "0        5.70\n",
       "1        6.20\n",
       "2        5.90\n",
       "3        6.40\n",
       "4        5.11\n",
       "         ... \n",
       "18202    5.90\n",
       "18203    6.30\n",
       "18204    5.80\n",
       "18205    5.10\n",
       "18206    5.10\n",
       "Name: Height, Length: 18207, dtype: float64"
      ]
     },
     "execution_count": 56,
     "metadata": {},
     "output_type": "execute_result"
    }
   ],
   "source": [
    "fifa['Height']=fifa['Height'].astype(float)\n",
    "fifa['Height']"
   ]
  },
  {
   "cell_type": "code",
   "execution_count": 57,
   "metadata": {},
   "outputs": [
    {
     "data": {
      "text/plain": [
       "48"
      ]
     },
     "execution_count": 57,
     "metadata": {},
     "output_type": "execute_result"
    }
   ],
   "source": [
    "fifa['Height'].isnull().sum()"
   ]
  },
  {
   "cell_type": "code",
   "execution_count": 58,
   "metadata": {},
   "outputs": [
    {
     "data": {
      "text/plain": [
       "count    18159.000000\n",
       "mean         5.797367\n",
       "std          0.448232\n",
       "min          5.100000\n",
       "25%          5.110000\n",
       "50%          5.900000\n",
       "75%          6.100000\n",
       "max          6.900000\n",
       "Name: Height, dtype: float64"
      ]
     },
     "execution_count": 58,
     "metadata": {},
     "output_type": "execute_result"
    }
   ],
   "source": [
    "fifa['Height'].describe()"
   ]
  },
  {
   "cell_type": "code",
   "execution_count": 59,
   "metadata": {},
   "outputs": [],
   "source": [
    "fifa['Height']=fifa['Height'].fillna(5.79)"
   ]
  },
  {
   "cell_type": "code",
   "execution_count": 60,
   "metadata": {},
   "outputs": [
    {
     "data": {
      "text/plain": [
       "0"
      ]
     },
     "execution_count": 60,
     "metadata": {},
     "output_type": "execute_result"
    }
   ],
   "source": [
    "fifa['Height'].isnull().sum()"
   ]
  },
  {
   "cell_type": "markdown",
   "metadata": {},
   "source": [
    "### Approach\n",
    "\n",
    "* Some entries are null hence replacing with a mean will be a good option.\n",
    "* Removing ' to .(qutation mark)\n",
    "* Coverting data type from object to float"
   ]
  },
  {
   "cell_type": "markdown",
   "metadata": {},
   "source": [
    "## Weight"
   ]
  },
  {
   "cell_type": "code",
   "execution_count": 63,
   "metadata": {},
   "outputs": [
    {
     "data": {
      "text/plain": [
       "0    159lbs\n",
       "1    183lbs\n",
       "2    150lbs\n",
       "3    168lbs\n",
       "4    154lbs\n",
       "Name: Weight, dtype: object"
      ]
     },
     "execution_count": 63,
     "metadata": {},
     "output_type": "execute_result"
    }
   ],
   "source": [
    "fifa['Weight'].head()"
   ]
  },
  {
   "cell_type": "code",
   "execution_count": 64,
   "metadata": {},
   "outputs": [],
   "source": [
    "# Removing 'lbs'\n",
    "def suffix(x):\n",
    "    x=str(x)\n",
    "    if 'lbs' in x:\n",
    "        x = x.replace('lbs','')\n",
    "    return x"
   ]
  },
  {
   "cell_type": "code",
   "execution_count": 65,
   "metadata": {},
   "outputs": [
    {
     "data": {
      "text/plain": [
       "0    159\n",
       "1    183\n",
       "2    150\n",
       "3    168\n",
       "4    154\n",
       "Name: Weight, dtype: object"
      ]
     },
     "execution_count": 65,
     "metadata": {},
     "output_type": "execute_result"
    }
   ],
   "source": [
    "fifa['Weight']=fifa['Weight'].apply(suffix)\n",
    "fifa['Weight'].head()"
   ]
  },
  {
   "cell_type": "code",
   "execution_count": 66,
   "metadata": {},
   "outputs": [],
   "source": [
    "fifa['Weight']=fifa['Weight'].astype(float)"
   ]
  },
  {
   "cell_type": "code",
   "execution_count": 67,
   "metadata": {},
   "outputs": [
    {
     "data": {
      "text/plain": [
       "0    159.0\n",
       "1    183.0\n",
       "2    150.0\n",
       "3    168.0\n",
       "4    154.0\n",
       "Name: Weight, dtype: float64"
      ]
     },
     "execution_count": 67,
     "metadata": {},
     "output_type": "execute_result"
    }
   ],
   "source": [
    "fifa['Weight'].head()"
   ]
  },
  {
   "cell_type": "code",
   "execution_count": 68,
   "metadata": {},
   "outputs": [],
   "source": [
    "fifa['Weight']=fifa['Weight'].fillna(fifa['Weight']).mean()"
   ]
  },
  {
   "cell_type": "code",
   "execution_count": 69,
   "metadata": {},
   "outputs": [
    {
     "data": {
      "text/plain": [
       "0"
      ]
     },
     "execution_count": 69,
     "metadata": {},
     "output_type": "execute_result"
    }
   ],
   "source": [
    "fifa['Weight'].isnull().sum()"
   ]
  },
  {
   "cell_type": "markdown",
   "metadata": {},
   "source": [
    "### Approach\n",
    "* Some entries are null hence replacing with a mean will be a good option.\n",
    "* Remove the suffix and convert to float"
   ]
  },
  {
   "cell_type": "markdown",
   "metadata": {},
   "source": [
    "# 4. Exploratory Analysis:"
   ]
  },
  {
   "cell_type": "markdown",
   "metadata": {},
   "source": [
    "## 4.1.\tPlot the distribution of Overall rating for all players. "
   ]
  },
  {
   "cell_type": "code",
   "execution_count": 70,
   "metadata": {},
   "outputs": [
    {
     "data": {
      "text/html": [
       "<div>\n",
       "<style scoped>\n",
       "    .dataframe tbody tr th:only-of-type {\n",
       "        vertical-align: middle;\n",
       "    }\n",
       "\n",
       "    .dataframe tbody tr th {\n",
       "        vertical-align: top;\n",
       "    }\n",
       "\n",
       "    .dataframe thead th {\n",
       "        text-align: right;\n",
       "    }\n",
       "</style>\n",
       "<table border=\"1\" class=\"dataframe\">\n",
       "  <thead>\n",
       "    <tr style=\"text-align: right;\">\n",
       "      <th></th>\n",
       "      <th>ID</th>\n",
       "      <th>unique id for every player</th>\n",
       "    </tr>\n",
       "  </thead>\n",
       "  <tbody>\n",
       "    <tr>\n",
       "      <th>0</th>\n",
       "      <td>Name</td>\n",
       "      <td>name</td>\n",
       "    </tr>\n",
       "    <tr>\n",
       "      <th>1</th>\n",
       "      <td>Age</td>\n",
       "      <td>age</td>\n",
       "    </tr>\n",
       "    <tr>\n",
       "      <th>2</th>\n",
       "      <td>Photo</td>\n",
       "      <td>url to the player's photo</td>\n",
       "    </tr>\n",
       "    <tr>\n",
       "      <th>3</th>\n",
       "      <td>Nationality</td>\n",
       "      <td>nationality</td>\n",
       "    </tr>\n",
       "    <tr>\n",
       "      <th>4</th>\n",
       "      <td>Flag</td>\n",
       "      <td>url to players's country flag</td>\n",
       "    </tr>\n",
       "    <tr>\n",
       "      <th>5</th>\n",
       "      <td>Overall</td>\n",
       "      <td>overall rating</td>\n",
       "    </tr>\n",
       "    <tr>\n",
       "      <th>6</th>\n",
       "      <td>Potential</td>\n",
       "      <td>potential rating</td>\n",
       "    </tr>\n",
       "    <tr>\n",
       "      <th>7</th>\n",
       "      <td>Club</td>\n",
       "      <td>current club</td>\n",
       "    </tr>\n",
       "    <tr>\n",
       "      <th>8</th>\n",
       "      <td>Club Logo</td>\n",
       "      <td>url to club logo</td>\n",
       "    </tr>\n",
       "    <tr>\n",
       "      <th>9</th>\n",
       "      <td>Value</td>\n",
       "      <td>current market value</td>\n",
       "    </tr>\n",
       "    <tr>\n",
       "      <th>10</th>\n",
       "      <td>Wage</td>\n",
       "      <td>current wage</td>\n",
       "    </tr>\n",
       "    <tr>\n",
       "      <th>11</th>\n",
       "      <td>Preferred Foot</td>\n",
       "      <td>left/right</td>\n",
       "    </tr>\n",
       "    <tr>\n",
       "      <th>12</th>\n",
       "      <td>International Reputation</td>\n",
       "      <td>rating on scale of 5</td>\n",
       "    </tr>\n",
       "    <tr>\n",
       "      <th>13</th>\n",
       "      <td>Weak Foot</td>\n",
       "      <td>rating on scale of 5</td>\n",
       "    </tr>\n",
       "    <tr>\n",
       "      <th>14</th>\n",
       "      <td>Skill Moves</td>\n",
       "      <td>rating on scale of 5</td>\n",
       "    </tr>\n",
       "    <tr>\n",
       "      <th>15</th>\n",
       "      <td>Work Rate</td>\n",
       "      <td>attack work rate/defence work rate</td>\n",
       "    </tr>\n",
       "    <tr>\n",
       "      <th>16</th>\n",
       "      <td>Body Type</td>\n",
       "      <td>body type of player</td>\n",
       "    </tr>\n",
       "    <tr>\n",
       "      <th>17</th>\n",
       "      <td>Position</td>\n",
       "      <td>position on the pitch</td>\n",
       "    </tr>\n",
       "    <tr>\n",
       "      <th>18</th>\n",
       "      <td>Jersey Number</td>\n",
       "      <td>jersey number</td>\n",
       "    </tr>\n",
       "    <tr>\n",
       "      <th>19</th>\n",
       "      <td>Joined</td>\n",
       "      <td>joined date</td>\n",
       "    </tr>\n",
       "    <tr>\n",
       "      <th>20</th>\n",
       "      <td>Loaned From</td>\n",
       "      <td>club name if applicable</td>\n",
       "    </tr>\n",
       "    <tr>\n",
       "      <th>21</th>\n",
       "      <td>Contract Valid Until</td>\n",
       "      <td>contract end date</td>\n",
       "    </tr>\n",
       "    <tr>\n",
       "      <th>22</th>\n",
       "      <td>Height</td>\n",
       "      <td>height of the player</td>\n",
       "    </tr>\n",
       "    <tr>\n",
       "      <th>23</th>\n",
       "      <td>Weight</td>\n",
       "      <td>weight of the player</td>\n",
       "    </tr>\n",
       "    <tr>\n",
       "      <th>24</th>\n",
       "      <td>Crossing</td>\n",
       "      <td>rating on scale of 100</td>\n",
       "    </tr>\n",
       "    <tr>\n",
       "      <th>25</th>\n",
       "      <td>Finishing</td>\n",
       "      <td>rating on scale of 100</td>\n",
       "    </tr>\n",
       "    <tr>\n",
       "      <th>26</th>\n",
       "      <td>HeadingAccuracy</td>\n",
       "      <td>rating on scale of 100</td>\n",
       "    </tr>\n",
       "    <tr>\n",
       "      <th>27</th>\n",
       "      <td>ShortPassing</td>\n",
       "      <td>rating on scale of 100</td>\n",
       "    </tr>\n",
       "    <tr>\n",
       "      <th>28</th>\n",
       "      <td>Volleys</td>\n",
       "      <td>rating on scale of 100</td>\n",
       "    </tr>\n",
       "    <tr>\n",
       "      <th>29</th>\n",
       "      <td>Dribbling</td>\n",
       "      <td>rating on scale of 100</td>\n",
       "    </tr>\n",
       "    <tr>\n",
       "      <th>30</th>\n",
       "      <td>Curve</td>\n",
       "      <td>rating on scale of 100</td>\n",
       "    </tr>\n",
       "    <tr>\n",
       "      <th>31</th>\n",
       "      <td>FKAccuracy</td>\n",
       "      <td>rating on scale of 100</td>\n",
       "    </tr>\n",
       "    <tr>\n",
       "      <th>32</th>\n",
       "      <td>LongPassing</td>\n",
       "      <td>rating on scale of 100</td>\n",
       "    </tr>\n",
       "    <tr>\n",
       "      <th>33</th>\n",
       "      <td>BallControl</td>\n",
       "      <td>rating on scale of 100</td>\n",
       "    </tr>\n",
       "    <tr>\n",
       "      <th>34</th>\n",
       "      <td>Acceleration</td>\n",
       "      <td>rating on scale of 100</td>\n",
       "    </tr>\n",
       "    <tr>\n",
       "      <th>35</th>\n",
       "      <td>SprintSpeed</td>\n",
       "      <td>rating on scale of 100</td>\n",
       "    </tr>\n",
       "    <tr>\n",
       "      <th>36</th>\n",
       "      <td>Agility</td>\n",
       "      <td>rating on scale of 100</td>\n",
       "    </tr>\n",
       "    <tr>\n",
       "      <th>37</th>\n",
       "      <td>Reactions</td>\n",
       "      <td>rating on scale of 100\\</td>\n",
       "    </tr>\n",
       "    <tr>\n",
       "      <th>38</th>\n",
       "      <td>Balance</td>\n",
       "      <td>rating on scale of 100</td>\n",
       "    </tr>\n",
       "    <tr>\n",
       "      <th>39</th>\n",
       "      <td>ShotPower</td>\n",
       "      <td>rating on scale of 100</td>\n",
       "    </tr>\n",
       "    <tr>\n",
       "      <th>40</th>\n",
       "      <td>Jumping</td>\n",
       "      <td>rating on scale of 100</td>\n",
       "    </tr>\n",
       "    <tr>\n",
       "      <th>41</th>\n",
       "      <td>Stamina</td>\n",
       "      <td>rating on scale of 100</td>\n",
       "    </tr>\n",
       "    <tr>\n",
       "      <th>42</th>\n",
       "      <td>Strength</td>\n",
       "      <td>rating on scale of 100</td>\n",
       "    </tr>\n",
       "    <tr>\n",
       "      <th>43</th>\n",
       "      <td>LongShots</td>\n",
       "      <td>rating on scale of 100</td>\n",
       "    </tr>\n",
       "    <tr>\n",
       "      <th>44</th>\n",
       "      <td>Aggression</td>\n",
       "      <td>rating on scale of 100</td>\n",
       "    </tr>\n",
       "    <tr>\n",
       "      <th>45</th>\n",
       "      <td>Interceptions</td>\n",
       "      <td>rating on scale of 100</td>\n",
       "    </tr>\n",
       "    <tr>\n",
       "      <th>46</th>\n",
       "      <td>Positioning</td>\n",
       "      <td>rating on scale of 100</td>\n",
       "    </tr>\n",
       "    <tr>\n",
       "      <th>47</th>\n",
       "      <td>Vision</td>\n",
       "      <td>rating on scale of 100</td>\n",
       "    </tr>\n",
       "    <tr>\n",
       "      <th>48</th>\n",
       "      <td>Penalties</td>\n",
       "      <td>rating on scale of 100</td>\n",
       "    </tr>\n",
       "    <tr>\n",
       "      <th>49</th>\n",
       "      <td>Composure</td>\n",
       "      <td>rating on scale of 100</td>\n",
       "    </tr>\n",
       "    <tr>\n",
       "      <th>50</th>\n",
       "      <td>Marking</td>\n",
       "      <td>rating on scale of 100</td>\n",
       "    </tr>\n",
       "    <tr>\n",
       "      <th>51</th>\n",
       "      <td>StandingTackle</td>\n",
       "      <td>rating on scale of 100</td>\n",
       "    </tr>\n",
       "    <tr>\n",
       "      <th>52</th>\n",
       "      <td>SlidingTackle</td>\n",
       "      <td>rating on scale of 100</td>\n",
       "    </tr>\n",
       "    <tr>\n",
       "      <th>53</th>\n",
       "      <td>GKDiving</td>\n",
       "      <td>rating on scale of 100</td>\n",
       "    </tr>\n",
       "    <tr>\n",
       "      <th>54</th>\n",
       "      <td>GKHandling</td>\n",
       "      <td>rating on scale of 100</td>\n",
       "    </tr>\n",
       "    <tr>\n",
       "      <th>55</th>\n",
       "      <td>GKKicking</td>\n",
       "      <td>rating on scale of 100</td>\n",
       "    </tr>\n",
       "    <tr>\n",
       "      <th>56</th>\n",
       "      <td>GKPositioning</td>\n",
       "      <td>rating on scale of 100</td>\n",
       "    </tr>\n",
       "    <tr>\n",
       "      <th>57</th>\n",
       "      <td>GKReflexes</td>\n",
       "      <td>rating on scale of 100</td>\n",
       "    </tr>\n",
       "    <tr>\n",
       "      <th>58</th>\n",
       "      <td>Release Clause</td>\n",
       "      <td>release clause value</td>\n",
       "    </tr>\n",
       "  </tbody>\n",
       "</table>\n",
       "</div>"
      ],
      "text/plain": [
       "                          ID          unique id for every player\n",
       "0                       Name                                name\n",
       "1                        Age                                 age\n",
       "2                      Photo           url to the player's photo\n",
       "3                Nationality                         nationality\n",
       "4                       Flag       url to players's country flag\n",
       "5                    Overall                      overall rating\n",
       "6                  Potential                    potential rating\n",
       "7                       Club                        current club\n",
       "8                  Club Logo                    url to club logo\n",
       "9                      Value                current market value\n",
       "10                      Wage                        current wage\n",
       "11            Preferred Foot                          left/right\n",
       "12  International Reputation                rating on scale of 5\n",
       "13                 Weak Foot                rating on scale of 5\n",
       "14               Skill Moves                rating on scale of 5\n",
       "15                 Work Rate  attack work rate/defence work rate\n",
       "16                 Body Type                 body type of player\n",
       "17                  Position               position on the pitch\n",
       "18             Jersey Number                       jersey number\n",
       "19                    Joined                         joined date\n",
       "20               Loaned From             club name if applicable\n",
       "21      Contract Valid Until                   contract end date\n",
       "22                    Height                height of the player\n",
       "23                    Weight                weight of the player\n",
       "24                  Crossing              rating on scale of 100\n",
       "25                 Finishing              rating on scale of 100\n",
       "26           HeadingAccuracy              rating on scale of 100\n",
       "27              ShortPassing              rating on scale of 100\n",
       "28                   Volleys              rating on scale of 100\n",
       "29                 Dribbling              rating on scale of 100\n",
       "30                     Curve              rating on scale of 100\n",
       "31                FKAccuracy              rating on scale of 100\n",
       "32               LongPassing              rating on scale of 100\n",
       "33               BallControl              rating on scale of 100\n",
       "34              Acceleration              rating on scale of 100\n",
       "35               SprintSpeed              rating on scale of 100\n",
       "36                   Agility              rating on scale of 100\n",
       "37                 Reactions             rating on scale of 100\\\n",
       "38                   Balance              rating on scale of 100\n",
       "39                 ShotPower              rating on scale of 100\n",
       "40                   Jumping              rating on scale of 100\n",
       "41                   Stamina              rating on scale of 100\n",
       "42                  Strength              rating on scale of 100\n",
       "43                 LongShots              rating on scale of 100\n",
       "44                Aggression              rating on scale of 100\n",
       "45             Interceptions              rating on scale of 100\n",
       "46               Positioning              rating on scale of 100\n",
       "47                    Vision              rating on scale of 100\n",
       "48                 Penalties              rating on scale of 100\n",
       "49                 Composure              rating on scale of 100\n",
       "50                   Marking              rating on scale of 100\n",
       "51            StandingTackle              rating on scale of 100\n",
       "52             SlidingTackle              rating on scale of 100\n",
       "53                  GKDiving              rating on scale of 100\n",
       "54                GKHandling              rating on scale of 100\n",
       "55                 GKKicking              rating on scale of 100\n",
       "56             GKPositioning              rating on scale of 100\n",
       "57                GKReflexes              rating on scale of 100\n",
       "58            Release Clause                release clause value"
      ]
     },
     "execution_count": 70,
     "metadata": {},
     "output_type": "execute_result"
    }
   ],
   "source": [
    "data"
   ]
  },
  {
   "cell_type": "code",
   "execution_count": 71,
   "metadata": {},
   "outputs": [
    {
     "data": {
      "image/png": "[encoded data removed]",
      "text/plain": [
       "<Figure size 432x288 with 1 Axes>"
      ]
     },
     "metadata": {
      "needs_background": "light"
     },
     "output_type": "display_data"
    }
   ],
   "source": [
    "sns.distplot(fifa.Overall,bins=20)\n",
    "plt.show()"
   ]
  },
  {
   "cell_type": "markdown",
   "metadata": {},
   "source": [
    "## 4.2.\tGenerate pair plots for the following variables:\n",
    "Overall, Value, Wage, International Reputation, Height, Weight, Release Clause\n"
   ]
  },
  {
   "cell_type": "code",
   "execution_count": 72,
   "metadata": {},
   "outputs": [],
   "source": [
    "column = ['Overall', 'Value', 'Wage', 'International Reputation', 'Height', 'Weight', 'Release Clause']"
   ]
  },
  {
   "cell_type": "code",
   "execution_count": 73,
   "metadata": {
    "scrolled": true
   },
   "outputs": [
    {
     "data": {
      "text/plain": [
       "Overall                       int64\n",
       "Value                       float64\n",
       "Wage                        float64\n",
       "International Reputation    float64\n",
       "Height                      float64\n",
       "Weight                      float64\n",
       "Release Clause              float64\n",
       "dtype: object"
      ]
     },
     "execution_count": 73,
     "metadata": {},
     "output_type": "execute_result"
    }
   ],
   "source": [
    "fifa.loc[:,column].dtypes"
   ]
  },
  {
   "cell_type": "code",
   "execution_count": 78,
   "metadata": {},
   "outputs": [
    {
     "data": {
      "text/plain": [
       "<Figure size 720x576 with 0 Axes>"
      ]
     },
     "metadata": {},
     "output_type": "display_data"
    },
    {
     "data": {
      "image/png": "[encoded data removed]",
      "text/plain": [
       "<Figure size 1260x1260 with 56 Axes>"
      ]
     },
     "metadata": {
      "needs_background": "light"
     },
     "output_type": "display_data"
    }
   ],
   "source": [
    "plt.figure(figsize=[10,8])\n",
    "sns.pairplot(fifa.loc[:,column])\n",
    "plt.show()"
   ]
  },
  {
   "cell_type": "markdown",
   "metadata": {},
   "source": [
    "## 5.\tGenerate a table containing the top 20 players ranked by Overall score and whose contract expires in 2020.\n",
    "\n"
   ]
  },
  {
   "cell_type": "code",
   "execution_count": 79,
   "metadata": {},
   "outputs": [
    {
     "data": {
      "text/html": [
       "<div>\n",
       "<style scoped>\n",
       "    .dataframe tbody tr th:only-of-type {\n",
       "        vertical-align: middle;\n",
       "    }\n",
       "\n",
       "    .dataframe tbody tr th {\n",
       "        vertical-align: top;\n",
       "    }\n",
       "\n",
       "    .dataframe thead th {\n",
       "        text-align: right;\n",
       "    }\n",
       "</style>\n",
       "<table border=\"1\" class=\"dataframe\">\n",
       "  <thead>\n",
       "    <tr style=\"text-align: right;\">\n",
       "      <th></th>\n",
       "      <th>ID</th>\n",
       "      <th>Name</th>\n",
       "      <th>Age</th>\n",
       "      <th>Nationality</th>\n",
       "      <th>Overall</th>\n",
       "      <th>Potential</th>\n",
       "      <th>Club</th>\n",
       "      <th>Value</th>\n",
       "      <th>Wage</th>\n",
       "      <th>Preferred Foot</th>\n",
       "      <th>...</th>\n",
       "      <th>Marking</th>\n",
       "      <th>StandingTackle</th>\n",
       "      <th>SlidingTackle</th>\n",
       "      <th>GKDiving</th>\n",
       "      <th>GKHandling</th>\n",
       "      <th>GKKicking</th>\n",
       "      <th>GKPositioning</th>\n",
       "      <th>GKReflexes</th>\n",
       "      <th>Release Clause</th>\n",
       "      <th>Joined_Year</th>\n",
       "    </tr>\n",
       "  </thead>\n",
       "  <tbody>\n",
       "    <tr>\n",
       "      <th>0</th>\n",
       "      <td>158023</td>\n",
       "      <td>L. Messi</td>\n",
       "      <td>31</td>\n",
       "      <td>Argentina</td>\n",
       "      <td>94</td>\n",
       "      <td>94</td>\n",
       "      <td>FC Barcelona</td>\n",
       "      <td>110500000.0</td>\n",
       "      <td>565000.0</td>\n",
       "      <td>Left</td>\n",
       "      <td>...</td>\n",
       "      <td>33.0</td>\n",
       "      <td>28.0</td>\n",
       "      <td>26.0</td>\n",
       "      <td>6.0</td>\n",
       "      <td>11.0</td>\n",
       "      <td>15.0</td>\n",
       "      <td>14.0</td>\n",
       "      <td>8.0</td>\n",
       "      <td>226500000.0</td>\n",
       "      <td>2016.459829</td>\n",
       "    </tr>\n",
       "    <tr>\n",
       "      <th>1</th>\n",
       "      <td>20801</td>\n",
       "      <td>Cristiano Ronaldo</td>\n",
       "      <td>33</td>\n",
       "      <td>Portugal</td>\n",
       "      <td>94</td>\n",
       "      <td>94</td>\n",
       "      <td>Juventus</td>\n",
       "      <td>77000000.0</td>\n",
       "      <td>405000.0</td>\n",
       "      <td>Right</td>\n",
       "      <td>...</td>\n",
       "      <td>28.0</td>\n",
       "      <td>31.0</td>\n",
       "      <td>23.0</td>\n",
       "      <td>7.0</td>\n",
       "      <td>11.0</td>\n",
       "      <td>15.0</td>\n",
       "      <td>14.0</td>\n",
       "      <td>11.0</td>\n",
       "      <td>127100000.0</td>\n",
       "      <td>2016.459829</td>\n",
       "    </tr>\n",
       "    <tr>\n",
       "      <th>2</th>\n",
       "      <td>190871</td>\n",
       "      <td>Neymar Jr</td>\n",
       "      <td>26</td>\n",
       "      <td>Brazil</td>\n",
       "      <td>92</td>\n",
       "      <td>93</td>\n",
       "      <td>Paris Saint-Germain</td>\n",
       "      <td>118500000.0</td>\n",
       "      <td>290000.0</td>\n",
       "      <td>Right</td>\n",
       "      <td>...</td>\n",
       "      <td>27.0</td>\n",
       "      <td>24.0</td>\n",
       "      <td>33.0</td>\n",
       "      <td>9.0</td>\n",
       "      <td>9.0</td>\n",
       "      <td>15.0</td>\n",
       "      <td>15.0</td>\n",
       "      <td>11.0</td>\n",
       "      <td>228100000.0</td>\n",
       "      <td>2016.459829</td>\n",
       "    </tr>\n",
       "    <tr>\n",
       "      <th>3</th>\n",
       "      <td>193080</td>\n",
       "      <td>De Gea</td>\n",
       "      <td>27</td>\n",
       "      <td>Spain</td>\n",
       "      <td>91</td>\n",
       "      <td>93</td>\n",
       "      <td>Manchester United</td>\n",
       "      <td>72000000.0</td>\n",
       "      <td>260000.0</td>\n",
       "      <td>Right</td>\n",
       "      <td>...</td>\n",
       "      <td>15.0</td>\n",
       "      <td>21.0</td>\n",
       "      <td>13.0</td>\n",
       "      <td>90.0</td>\n",
       "      <td>85.0</td>\n",
       "      <td>87.0</td>\n",
       "      <td>88.0</td>\n",
       "      <td>94.0</td>\n",
       "      <td>138600000.0</td>\n",
       "      <td>2016.459829</td>\n",
       "    </tr>\n",
       "    <tr>\n",
       "      <th>4</th>\n",
       "      <td>192985</td>\n",
       "      <td>K. De Bruyne</td>\n",
       "      <td>27</td>\n",
       "      <td>Belgium</td>\n",
       "      <td>91</td>\n",
       "      <td>92</td>\n",
       "      <td>Manchester City</td>\n",
       "      <td>102000000.0</td>\n",
       "      <td>355000.0</td>\n",
       "      <td>Right</td>\n",
       "      <td>...</td>\n",
       "      <td>68.0</td>\n",
       "      <td>58.0</td>\n",
       "      <td>51.0</td>\n",
       "      <td>15.0</td>\n",
       "      <td>13.0</td>\n",
       "      <td>5.0</td>\n",
       "      <td>10.0</td>\n",
       "      <td>13.0</td>\n",
       "      <td>196400000.0</td>\n",
       "      <td>2016.459829</td>\n",
       "    </tr>\n",
       "  </tbody>\n",
       "</table>\n",
       "<p>5 rows × 55 columns</p>\n",
       "</div>"
      ],
      "text/plain": [
       "       ID               Name  Age Nationality  Overall  Potential  \\\n",
       "0  158023           L. Messi   31   Argentina       94         94   \n",
       "1   20801  Cristiano Ronaldo   33    Portugal       94         94   \n",
       "2  190871          Neymar Jr   26      Brazil       92         93   \n",
       "3  193080             De Gea   27       Spain       91         93   \n",
       "4  192985       K. De Bruyne   27     Belgium       91         92   \n",
       "\n",
       "                  Club        Value      Wage Preferred Foot  ...  Marking  \\\n",
       "0         FC Barcelona  110500000.0  565000.0           Left  ...     33.0   \n",
       "1             Juventus   77000000.0  405000.0          Right  ...     28.0   \n",
       "2  Paris Saint-Germain  118500000.0  290000.0          Right  ...     27.0   \n",
       "3    Manchester United   72000000.0  260000.0          Right  ...     15.0   \n",
       "4      Manchester City  102000000.0  355000.0          Right  ...     68.0   \n",
       "\n",
       "   StandingTackle  SlidingTackle GKDiving GKHandling GKKicking  GKPositioning  \\\n",
       "0            28.0           26.0      6.0       11.0      15.0           14.0   \n",
       "1            31.0           23.0      7.0       11.0      15.0           14.0   \n",
       "2            24.0           33.0      9.0        9.0      15.0           15.0   \n",
       "3            21.0           13.0     90.0       85.0      87.0           88.0   \n",
       "4            58.0           51.0     15.0       13.0       5.0           10.0   \n",
       "\n",
       "   GKReflexes  Release Clause  Joined_Year  \n",
       "0         8.0     226500000.0  2016.459829  \n",
       "1        11.0     127100000.0  2016.459829  \n",
       "2        11.0     228100000.0  2016.459829  \n",
       "3        94.0     138600000.0  2016.459829  \n",
       "4        13.0     196400000.0  2016.459829  \n",
       "\n",
       "[5 rows x 55 columns]"
      ]
     },
     "execution_count": 79,
     "metadata": {},
     "output_type": "execute_result"
    }
   ],
   "source": [
    "fifa.head()"
   ]
  },
  {
   "cell_type": "code",
   "execution_count": 197,
   "metadata": {},
   "outputs": [
    {
     "data": {
      "text/html": [
       "<div>\n",
       "<style scoped>\n",
       "    .dataframe tbody tr th:only-of-type {\n",
       "        vertical-align: middle;\n",
       "    }\n",
       "\n",
       "    .dataframe tbody tr th {\n",
       "        vertical-align: top;\n",
       "    }\n",
       "\n",
       "    .dataframe thead th {\n",
       "        text-align: right;\n",
       "    }\n",
       "</style>\n",
       "<table border=\"1\" class=\"dataframe\">\n",
       "  <thead>\n",
       "    <tr style=\"text-align: right;\">\n",
       "      <th></th>\n",
       "      <th>ID</th>\n",
       "      <th>Name</th>\n",
       "      <th>Age</th>\n",
       "      <th>Nationality</th>\n",
       "      <th>Overall</th>\n",
       "      <th>Potential</th>\n",
       "      <th>Club</th>\n",
       "      <th>Value</th>\n",
       "      <th>Wage</th>\n",
       "      <th>Preferred Foot</th>\n",
       "      <th>...</th>\n",
       "      <th>Marking</th>\n",
       "      <th>StandingTackle</th>\n",
       "      <th>SlidingTackle</th>\n",
       "      <th>GKDiving</th>\n",
       "      <th>GKHandling</th>\n",
       "      <th>GKKicking</th>\n",
       "      <th>GKPositioning</th>\n",
       "      <th>GKReflexes</th>\n",
       "      <th>Release Clause</th>\n",
       "      <th>Joined_Year</th>\n",
       "    </tr>\n",
       "  </thead>\n",
       "  <tbody>\n",
       "    <tr>\n",
       "      <th>3</th>\n",
       "      <td>193080</td>\n",
       "      <td>De Gea</td>\n",
       "      <td>27</td>\n",
       "      <td>Spain</td>\n",
       "      <td>91</td>\n",
       "      <td>93</td>\n",
       "      <td>Manchester United</td>\n",
       "      <td>72000000.0</td>\n",
       "      <td>260000.0</td>\n",
       "      <td>Right</td>\n",
       "      <td>...</td>\n",
       "      <td>15.0</td>\n",
       "      <td>21.0</td>\n",
       "      <td>13.0</td>\n",
       "      <td>90.0</td>\n",
       "      <td>85.0</td>\n",
       "      <td>87.0</td>\n",
       "      <td>88.0</td>\n",
       "      <td>94.0</td>\n",
       "      <td>138600000.0</td>\n",
       "      <td>2016.459829</td>\n",
       "    </tr>\n",
       "    <tr>\n",
       "      <th>6</th>\n",
       "      <td>177003</td>\n",
       "      <td>L. Modrić</td>\n",
       "      <td>32</td>\n",
       "      <td>Croatia</td>\n",
       "      <td>91</td>\n",
       "      <td>91</td>\n",
       "      <td>Real Madrid</td>\n",
       "      <td>67000000.0</td>\n",
       "      <td>420000.0</td>\n",
       "      <td>Right</td>\n",
       "      <td>...</td>\n",
       "      <td>60.0</td>\n",
       "      <td>76.0</td>\n",
       "      <td>73.0</td>\n",
       "      <td>13.0</td>\n",
       "      <td>9.0</td>\n",
       "      <td>7.0</td>\n",
       "      <td>14.0</td>\n",
       "      <td>9.0</td>\n",
       "      <td>137400000.0</td>\n",
       "      <td>2016.459829</td>\n",
       "    </tr>\n",
       "    <tr>\n",
       "      <th>8</th>\n",
       "      <td>155862</td>\n",
       "      <td>Sergio Ramos</td>\n",
       "      <td>32</td>\n",
       "      <td>Spain</td>\n",
       "      <td>91</td>\n",
       "      <td>91</td>\n",
       "      <td>Real Madrid</td>\n",
       "      <td>51000000.0</td>\n",
       "      <td>380000.0</td>\n",
       "      <td>Right</td>\n",
       "      <td>...</td>\n",
       "      <td>87.0</td>\n",
       "      <td>92.0</td>\n",
       "      <td>91.0</td>\n",
       "      <td>11.0</td>\n",
       "      <td>8.0</td>\n",
       "      <td>9.0</td>\n",
       "      <td>7.0</td>\n",
       "      <td>11.0</td>\n",
       "      <td>104600000.0</td>\n",
       "      <td>2016.459829</td>\n",
       "    </tr>\n",
       "    <tr>\n",
       "      <th>5</th>\n",
       "      <td>183277</td>\n",
       "      <td>E. Hazard</td>\n",
       "      <td>27</td>\n",
       "      <td>Belgium</td>\n",
       "      <td>91</td>\n",
       "      <td>91</td>\n",
       "      <td>Chelsea</td>\n",
       "      <td>93000000.0</td>\n",
       "      <td>340000.0</td>\n",
       "      <td>Right</td>\n",
       "      <td>...</td>\n",
       "      <td>34.0</td>\n",
       "      <td>27.0</td>\n",
       "      <td>22.0</td>\n",
       "      <td>11.0</td>\n",
       "      <td>12.0</td>\n",
       "      <td>6.0</td>\n",
       "      <td>8.0</td>\n",
       "      <td>8.0</td>\n",
       "      <td>172100000.0</td>\n",
       "      <td>2016.459829</td>\n",
       "    </tr>\n",
       "    <tr>\n",
       "      <th>13</th>\n",
       "      <td>168542</td>\n",
       "      <td>David Silva</td>\n",
       "      <td>32</td>\n",
       "      <td>Spain</td>\n",
       "      <td>90</td>\n",
       "      <td>90</td>\n",
       "      <td>Manchester City</td>\n",
       "      <td>60000000.0</td>\n",
       "      <td>285000.0</td>\n",
       "      <td>Left</td>\n",
       "      <td>...</td>\n",
       "      <td>59.0</td>\n",
       "      <td>53.0</td>\n",
       "      <td>29.0</td>\n",
       "      <td>6.0</td>\n",
       "      <td>15.0</td>\n",
       "      <td>7.0</td>\n",
       "      <td>6.0</td>\n",
       "      <td>12.0</td>\n",
       "      <td>111000000.0</td>\n",
       "      <td>2016.459829</td>\n",
       "    </tr>\n",
       "    <tr>\n",
       "      <th>21</th>\n",
       "      <td>179813</td>\n",
       "      <td>E. Cavani</td>\n",
       "      <td>31</td>\n",
       "      <td>Uruguay</td>\n",
       "      <td>89</td>\n",
       "      <td>89</td>\n",
       "      <td>Paris Saint-Germain</td>\n",
       "      <td>60000000.0</td>\n",
       "      <td>200000.0</td>\n",
       "      <td>Right</td>\n",
       "      <td>...</td>\n",
       "      <td>52.0</td>\n",
       "      <td>45.0</td>\n",
       "      <td>39.0</td>\n",
       "      <td>12.0</td>\n",
       "      <td>5.0</td>\n",
       "      <td>13.0</td>\n",
       "      <td>13.0</td>\n",
       "      <td>10.0</td>\n",
       "      <td>111000000.0</td>\n",
       "      <td>2016.459829</td>\n",
       "    </tr>\n",
       "    <tr>\n",
       "      <th>24</th>\n",
       "      <td>138956</td>\n",
       "      <td>G. Chiellini</td>\n",
       "      <td>33</td>\n",
       "      <td>Italy</td>\n",
       "      <td>89</td>\n",
       "      <td>89</td>\n",
       "      <td>Juventus</td>\n",
       "      <td>27000000.0</td>\n",
       "      <td>215000.0</td>\n",
       "      <td>Left</td>\n",
       "      <td>...</td>\n",
       "      <td>93.0</td>\n",
       "      <td>93.0</td>\n",
       "      <td>90.0</td>\n",
       "      <td>3.0</td>\n",
       "      <td>3.0</td>\n",
       "      <td>2.0</td>\n",
       "      <td>4.0</td>\n",
       "      <td>3.0</td>\n",
       "      <td>44600000.0</td>\n",
       "      <td>2016.459829</td>\n",
       "    </tr>\n",
       "    <tr>\n",
       "      <th>31</th>\n",
       "      <td>190460</td>\n",
       "      <td>C. Eriksen</td>\n",
       "      <td>26</td>\n",
       "      <td>Denmark</td>\n",
       "      <td>88</td>\n",
       "      <td>91</td>\n",
       "      <td>Tottenham Hotspur</td>\n",
       "      <td>73500000.0</td>\n",
       "      <td>205000.0</td>\n",
       "      <td>Right</td>\n",
       "      <td>...</td>\n",
       "      <td>59.0</td>\n",
       "      <td>57.0</td>\n",
       "      <td>22.0</td>\n",
       "      <td>9.0</td>\n",
       "      <td>14.0</td>\n",
       "      <td>7.0</td>\n",
       "      <td>7.0</td>\n",
       "      <td>6.0</td>\n",
       "      <td>141500000.0</td>\n",
       "      <td>2016.459829</td>\n",
       "    </tr>\n",
       "    <tr>\n",
       "      <th>39</th>\n",
       "      <td>164240</td>\n",
       "      <td>Thiago Silva</td>\n",
       "      <td>33</td>\n",
       "      <td>Brazil</td>\n",
       "      <td>88</td>\n",
       "      <td>88</td>\n",
       "      <td>Paris Saint-Germain</td>\n",
       "      <td>24000000.0</td>\n",
       "      <td>165000.0</td>\n",
       "      <td>Right</td>\n",
       "      <td>...</td>\n",
       "      <td>88.0</td>\n",
       "      <td>89.0</td>\n",
       "      <td>85.0</td>\n",
       "      <td>9.0</td>\n",
       "      <td>12.0</td>\n",
       "      <td>5.0</td>\n",
       "      <td>9.0</td>\n",
       "      <td>10.0</td>\n",
       "      <td>44400000.0</td>\n",
       "      <td>2016.459829</td>\n",
       "    </tr>\n",
       "    <tr>\n",
       "      <th>50</th>\n",
       "      <td>175943</td>\n",
       "      <td>D. Mertens</td>\n",
       "      <td>31</td>\n",
       "      <td>Belgium</td>\n",
       "      <td>87</td>\n",
       "      <td>87</td>\n",
       "      <td>Napoli</td>\n",
       "      <td>45000000.0</td>\n",
       "      <td>135000.0</td>\n",
       "      <td>Right</td>\n",
       "      <td>...</td>\n",
       "      <td>25.0</td>\n",
       "      <td>40.0</td>\n",
       "      <td>40.0</td>\n",
       "      <td>7.0</td>\n",
       "      <td>10.0</td>\n",
       "      <td>8.0</td>\n",
       "      <td>10.0</td>\n",
       "      <td>4.0</td>\n",
       "      <td>76500000.0</td>\n",
       "      <td>2016.459829</td>\n",
       "    </tr>\n",
       "    <tr>\n",
       "      <th>52</th>\n",
       "      <td>171877</td>\n",
       "      <td>M. Hamšík</td>\n",
       "      <td>30</td>\n",
       "      <td>Slovakia</td>\n",
       "      <td>87</td>\n",
       "      <td>87</td>\n",
       "      <td>Napoli</td>\n",
       "      <td>46500000.0</td>\n",
       "      <td>125000.0</td>\n",
       "      <td>Right</td>\n",
       "      <td>...</td>\n",
       "      <td>75.0</td>\n",
       "      <td>73.0</td>\n",
       "      <td>62.0</td>\n",
       "      <td>8.0</td>\n",
       "      <td>6.0</td>\n",
       "      <td>4.0</td>\n",
       "      <td>14.0</td>\n",
       "      <td>14.0</td>\n",
       "      <td>79100000.0</td>\n",
       "      <td>2016.459829</td>\n",
       "    </tr>\n",
       "    <tr>\n",
       "      <th>49</th>\n",
       "      <td>189332</td>\n",
       "      <td>Jordi Alba</td>\n",
       "      <td>29</td>\n",
       "      <td>Spain</td>\n",
       "      <td>87</td>\n",
       "      <td>87</td>\n",
       "      <td>FC Barcelona</td>\n",
       "      <td>38000000.0</td>\n",
       "      <td>250000.0</td>\n",
       "      <td>Left</td>\n",
       "      <td>...</td>\n",
       "      <td>72.0</td>\n",
       "      <td>84.0</td>\n",
       "      <td>85.0</td>\n",
       "      <td>13.0</td>\n",
       "      <td>15.0</td>\n",
       "      <td>13.0</td>\n",
       "      <td>6.0</td>\n",
       "      <td>13.0</td>\n",
       "      <td>77900000.0</td>\n",
       "      <td>2016.459829</td>\n",
       "    </tr>\n",
       "    <tr>\n",
       "      <th>46</th>\n",
       "      <td>193041</td>\n",
       "      <td>K. Navas</td>\n",
       "      <td>31</td>\n",
       "      <td>Costa Rica</td>\n",
       "      <td>87</td>\n",
       "      <td>87</td>\n",
       "      <td>Real Madrid</td>\n",
       "      <td>30500000.0</td>\n",
       "      <td>195000.0</td>\n",
       "      <td>Right</td>\n",
       "      <td>...</td>\n",
       "      <td>28.0</td>\n",
       "      <td>14.0</td>\n",
       "      <td>14.0</td>\n",
       "      <td>90.0</td>\n",
       "      <td>81.0</td>\n",
       "      <td>75.0</td>\n",
       "      <td>82.0</td>\n",
       "      <td>90.0</td>\n",
       "      <td>62500000.0</td>\n",
       "      <td>2016.459829</td>\n",
       "    </tr>\n",
       "    <tr>\n",
       "      <th>64</th>\n",
       "      <td>191043</td>\n",
       "      <td>Alex Sandro</td>\n",
       "      <td>27</td>\n",
       "      <td>Brazil</td>\n",
       "      <td>86</td>\n",
       "      <td>86</td>\n",
       "      <td>Juventus</td>\n",
       "      <td>36500000.0</td>\n",
       "      <td>160000.0</td>\n",
       "      <td>Left</td>\n",
       "      <td>...</td>\n",
       "      <td>81.0</td>\n",
       "      <td>84.0</td>\n",
       "      <td>84.0</td>\n",
       "      <td>7.0</td>\n",
       "      <td>7.0</td>\n",
       "      <td>9.0</td>\n",
       "      <td>12.0</td>\n",
       "      <td>5.0</td>\n",
       "      <td>60200000.0</td>\n",
       "      <td>2016.459829</td>\n",
       "    </tr>\n",
       "    <tr>\n",
       "      <th>71</th>\n",
       "      <td>184087</td>\n",
       "      <td>T. Alderweireld</td>\n",
       "      <td>29</td>\n",
       "      <td>Belgium</td>\n",
       "      <td>86</td>\n",
       "      <td>87</td>\n",
       "      <td>Tottenham Hotspur</td>\n",
       "      <td>39000000.0</td>\n",
       "      <td>150000.0</td>\n",
       "      <td>Right</td>\n",
       "      <td>...</td>\n",
       "      <td>90.0</td>\n",
       "      <td>91.0</td>\n",
       "      <td>86.0</td>\n",
       "      <td>16.0</td>\n",
       "      <td>6.0</td>\n",
       "      <td>14.0</td>\n",
       "      <td>16.0</td>\n",
       "      <td>14.0</td>\n",
       "      <td>75100000.0</td>\n",
       "      <td>2016.459829</td>\n",
       "    </tr>\n",
       "    <tr>\n",
       "      <th>73</th>\n",
       "      <td>177509</td>\n",
       "      <td>M. Benatia</td>\n",
       "      <td>31</td>\n",
       "      <td>Morocco</td>\n",
       "      <td>86</td>\n",
       "      <td>86</td>\n",
       "      <td>Juventus</td>\n",
       "      <td>30000000.0</td>\n",
       "      <td>160000.0</td>\n",
       "      <td>Right</td>\n",
       "      <td>...</td>\n",
       "      <td>89.0</td>\n",
       "      <td>87.0</td>\n",
       "      <td>85.0</td>\n",
       "      <td>7.0</td>\n",
       "      <td>4.0</td>\n",
       "      <td>8.0</td>\n",
       "      <td>7.0</td>\n",
       "      <td>11.0</td>\n",
       "      <td>49500000.0</td>\n",
       "      <td>2016.459829</td>\n",
       "    </tr>\n",
       "    <tr>\n",
       "      <th>75</th>\n",
       "      <td>135507</td>\n",
       "      <td>Fernandinho</td>\n",
       "      <td>33</td>\n",
       "      <td>Brazil</td>\n",
       "      <td>86</td>\n",
       "      <td>86</td>\n",
       "      <td>Manchester City</td>\n",
       "      <td>18000000.0</td>\n",
       "      <td>185000.0</td>\n",
       "      <td>Right</td>\n",
       "      <td>...</td>\n",
       "      <td>85.0</td>\n",
       "      <td>85.0</td>\n",
       "      <td>80.0</td>\n",
       "      <td>12.0</td>\n",
       "      <td>11.0</td>\n",
       "      <td>5.0</td>\n",
       "      <td>13.0</td>\n",
       "      <td>7.0</td>\n",
       "      <td>33300000.0</td>\n",
       "      <td>2016.459829</td>\n",
       "    </tr>\n",
       "    <tr>\n",
       "      <th>102</th>\n",
       "      <td>171919</td>\n",
       "      <td>Naldo</td>\n",
       "      <td>35</td>\n",
       "      <td>Brazil</td>\n",
       "      <td>85</td>\n",
       "      <td>85</td>\n",
       "      <td>FC Schalke 04</td>\n",
       "      <td>9000000.0</td>\n",
       "      <td>38000.0</td>\n",
       "      <td>Right</td>\n",
       "      <td>...</td>\n",
       "      <td>86.0</td>\n",
       "      <td>88.0</td>\n",
       "      <td>85.0</td>\n",
       "      <td>14.0</td>\n",
       "      <td>10.0</td>\n",
       "      <td>14.0</td>\n",
       "      <td>8.0</td>\n",
       "      <td>14.0</td>\n",
       "      <td>15300000.0</td>\n",
       "      <td>2016.459829</td>\n",
       "    </tr>\n",
       "    <tr>\n",
       "      <th>104</th>\n",
       "      <td>168609</td>\n",
       "      <td>Miranda</td>\n",
       "      <td>33</td>\n",
       "      <td>Brazil</td>\n",
       "      <td>85</td>\n",
       "      <td>85</td>\n",
       "      <td>Inter</td>\n",
       "      <td>15500000.0</td>\n",
       "      <td>96000.0</td>\n",
       "      <td>Right</td>\n",
       "      <td>...</td>\n",
       "      <td>90.0</td>\n",
       "      <td>90.0</td>\n",
       "      <td>85.0</td>\n",
       "      <td>12.0</td>\n",
       "      <td>6.0</td>\n",
       "      <td>10.0</td>\n",
       "      <td>13.0</td>\n",
       "      <td>12.0</td>\n",
       "      <td>26400000.0</td>\n",
       "      <td>2016.459829</td>\n",
       "    </tr>\n",
       "    <tr>\n",
       "      <th>103</th>\n",
       "      <td>170890</td>\n",
       "      <td>B. Matuidi</td>\n",
       "      <td>31</td>\n",
       "      <td>France</td>\n",
       "      <td>85</td>\n",
       "      <td>85</td>\n",
       "      <td>Juventus</td>\n",
       "      <td>26000000.0</td>\n",
       "      <td>145000.0</td>\n",
       "      <td>Left</td>\n",
       "      <td>...</td>\n",
       "      <td>85.0</td>\n",
       "      <td>84.0</td>\n",
       "      <td>86.0</td>\n",
       "      <td>8.0</td>\n",
       "      <td>11.0</td>\n",
       "      <td>5.0</td>\n",
       "      <td>10.0</td>\n",
       "      <td>14.0</td>\n",
       "      <td>42900000.0</td>\n",
       "      <td>2016.459829</td>\n",
       "    </tr>\n",
       "  </tbody>\n",
       "</table>\n",
       "<p>20 rows × 55 columns</p>\n",
       "</div>"
      ],
      "text/plain": [
       "         ID             Name  Age Nationality  Overall  Potential  \\\n",
       "3    193080           De Gea   27       Spain       91         93   \n",
       "6    177003        L. Modrić   32     Croatia       91         91   \n",
       "8    155862     Sergio Ramos   32       Spain       91         91   \n",
       "5    183277        E. Hazard   27     Belgium       91         91   \n",
       "13   168542      David Silva   32       Spain       90         90   \n",
       "21   179813        E. Cavani   31     Uruguay       89         89   \n",
       "24   138956     G. Chiellini   33       Italy       89         89   \n",
       "31   190460       C. Eriksen   26     Denmark       88         91   \n",
       "39   164240     Thiago Silva   33      Brazil       88         88   \n",
       "50   175943       D. Mertens   31     Belgium       87         87   \n",
       "52   171877        M. Hamšík   30    Slovakia       87         87   \n",
       "49   189332       Jordi Alba   29       Spain       87         87   \n",
       "46   193041         K. Navas   31  Costa Rica       87         87   \n",
       "64   191043      Alex Sandro   27      Brazil       86         86   \n",
       "71   184087  T. Alderweireld   29     Belgium       86         87   \n",
       "73   177509       M. Benatia   31     Morocco       86         86   \n",
       "75   135507      Fernandinho   33      Brazil       86         86   \n",
       "102  171919            Naldo   35      Brazil       85         85   \n",
       "104  168609          Miranda   33      Brazil       85         85   \n",
       "103  170890       B. Matuidi   31      France       85         85   \n",
       "\n",
       "                    Club       Value      Wage Preferred Foot  ...  Marking  \\\n",
       "3      Manchester United  72000000.0  260000.0          Right  ...     15.0   \n",
       "6            Real Madrid  67000000.0  420000.0          Right  ...     60.0   \n",
       "8            Real Madrid  51000000.0  380000.0          Right  ...     87.0   \n",
       "5                Chelsea  93000000.0  340000.0          Right  ...     34.0   \n",
       "13       Manchester City  60000000.0  285000.0           Left  ...     59.0   \n",
       "21   Paris Saint-Germain  60000000.0  200000.0          Right  ...     52.0   \n",
       "24              Juventus  27000000.0  215000.0           Left  ...     93.0   \n",
       "31     Tottenham Hotspur  73500000.0  205000.0          Right  ...     59.0   \n",
       "39   Paris Saint-Germain  24000000.0  165000.0          Right  ...     88.0   \n",
       "50                Napoli  45000000.0  135000.0          Right  ...     25.0   \n",
       "52                Napoli  46500000.0  125000.0          Right  ...     75.0   \n",
       "49          FC Barcelona  38000000.0  250000.0           Left  ...     72.0   \n",
       "46           Real Madrid  30500000.0  195000.0          Right  ...     28.0   \n",
       "64              Juventus  36500000.0  160000.0           Left  ...     81.0   \n",
       "71     Tottenham Hotspur  39000000.0  150000.0          Right  ...     90.0   \n",
       "73              Juventus  30000000.0  160000.0          Right  ...     89.0   \n",
       "75       Manchester City  18000000.0  185000.0          Right  ...     85.0   \n",
       "102        FC Schalke 04   9000000.0   38000.0          Right  ...     86.0   \n",
       "104                Inter  15500000.0   96000.0          Right  ...     90.0   \n",
       "103             Juventus  26000000.0  145000.0           Left  ...     85.0   \n",
       "\n",
       "     StandingTackle  SlidingTackle GKDiving GKHandling GKKicking  \\\n",
       "3              21.0           13.0     90.0       85.0      87.0   \n",
       "6              76.0           73.0     13.0        9.0       7.0   \n",
       "8              92.0           91.0     11.0        8.0       9.0   \n",
       "5              27.0           22.0     11.0       12.0       6.0   \n",
       "13             53.0           29.0      6.0       15.0       7.0   \n",
       "21             45.0           39.0     12.0        5.0      13.0   \n",
       "24             93.0           90.0      3.0        3.0       2.0   \n",
       "31             57.0           22.0      9.0       14.0       7.0   \n",
       "39             89.0           85.0      9.0       12.0       5.0   \n",
       "50             40.0           40.0      7.0       10.0       8.0   \n",
       "52             73.0           62.0      8.0        6.0       4.0   \n",
       "49             84.0           85.0     13.0       15.0      13.0   \n",
       "46             14.0           14.0     90.0       81.0      75.0   \n",
       "64             84.0           84.0      7.0        7.0       9.0   \n",
       "71             91.0           86.0     16.0        6.0      14.0   \n",
       "73             87.0           85.0      7.0        4.0       8.0   \n",
       "75             85.0           80.0     12.0       11.0       5.0   \n",
       "102            88.0           85.0     14.0       10.0      14.0   \n",
       "104            90.0           85.0     12.0        6.0      10.0   \n",
       "103            84.0           86.0      8.0       11.0       5.0   \n",
       "\n",
       "     GKPositioning  GKReflexes  Release Clause  Joined_Year  \n",
       "3             88.0        94.0     138600000.0  2016.459829  \n",
       "6             14.0         9.0     137400000.0  2016.459829  \n",
       "8              7.0        11.0     104600000.0  2016.459829  \n",
       "5              8.0         8.0     172100000.0  2016.459829  \n",
       "13             6.0        12.0     111000000.0  2016.459829  \n",
       "21            13.0        10.0     111000000.0  2016.459829  \n",
       "24             4.0         3.0      44600000.0  2016.459829  \n",
       "31             7.0         6.0     141500000.0  2016.459829  \n",
       "39             9.0        10.0      44400000.0  2016.459829  \n",
       "50            10.0         4.0      76500000.0  2016.459829  \n",
       "52            14.0        14.0      79100000.0  2016.459829  \n",
       "49             6.0        13.0      77900000.0  2016.459829  \n",
       "46            82.0        90.0      62500000.0  2016.459829  \n",
       "64            12.0         5.0      60200000.0  2016.459829  \n",
       "71            16.0        14.0      75100000.0  2016.459829  \n",
       "73             7.0        11.0      49500000.0  2016.459829  \n",
       "75            13.0         7.0      33300000.0  2016.459829  \n",
       "102            8.0        14.0      15300000.0  2016.459829  \n",
       "104           13.0        12.0      26400000.0  2016.459829  \n",
       "103           10.0        14.0      42900000.0  2016.459829  \n",
       "\n",
       "[20 rows x 55 columns]"
      ]
     },
     "execution_count": 197,
     "metadata": {},
     "output_type": "execute_result"
    }
   ],
   "source": [
    "t20 = fifa.query('`Contract Valid Until` == 2020').sort_values(by='Overall',ascending=False).head(20)\n",
    "t20"
   ]
  },
  {
   "cell_type": "markdown",
   "metadata": {},
   "source": [
    "## 5.a:\tWhat would the average wage for this set of players be?"
   ]
  },
  {
   "cell_type": "code",
   "execution_count": 110,
   "metadata": {},
   "outputs": [
    {
     "data": {
      "text/plain": [
       "205450.0"
      ]
     },
     "execution_count": 110,
     "metadata": {},
     "output_type": "execute_result"
    }
   ],
   "source": [
    "t20['Wage'].mean()"
   ]
  },
  {
   "cell_type": "markdown",
   "metadata": {},
   "source": [
    "## 5.b:\tWhat is the average age?"
   ]
  },
  {
   "cell_type": "code",
   "execution_count": 114,
   "metadata": {},
   "outputs": [
    {
     "data": {
      "text/plain": [
       "25.122205745043114"
      ]
     },
     "execution_count": 114,
     "metadata": {},
     "output_type": "execute_result"
    }
   ],
   "source": [
    "fifa['Age'].mean() #average age of whole the data"
   ]
  },
  {
   "cell_type": "code",
   "execution_count": 115,
   "metadata": {},
   "outputs": [
    {
     "data": {
      "text/plain": [
       "30.65"
      ]
     },
     "execution_count": 115,
     "metadata": {},
     "output_type": "execute_result"
    }
   ],
   "source": [
    "t20['Age'].mean() #average age of top 20 players"
   ]
  },
  {
   "cell_type": "markdown",
   "metadata": {},
   "source": [
    "## 5.c:\tIs there a correlation between the Overall rating and Value for these players?"
   ]
  },
  {
   "cell_type": "code",
   "execution_count": 117,
   "metadata": {},
   "outputs": [
    {
     "data": {
      "text/plain": [
       "array([[1.       , 0.7867166],\n",
       "       [0.7867166, 1.       ]])"
      ]
     },
     "execution_count": 117,
     "metadata": {},
     "output_type": "execute_result"
    }
   ],
   "source": [
    "np.corrcoef(t20.Overall,t20.Value)"
   ]
  },
  {
   "cell_type": "markdown",
   "metadata": {},
   "source": [
    "#### There is a high correlation (78%) between the Overall rating and Value"
   ]
  },
  {
   "cell_type": "markdown",
   "metadata": {},
   "source": [
    "## 6. Generate tables containing the top 5 players by Overall rating for each unique position."
   ]
  },
  {
   "cell_type": "code",
   "execution_count": 118,
   "metadata": {},
   "outputs": [
    {
     "data": {
      "text/plain": [
       "0         RF\n",
       "1         ST\n",
       "2         LW\n",
       "3         GK\n",
       "4        RCM\n",
       "        ... \n",
       "18202     CM\n",
       "18203     ST\n",
       "18204     ST\n",
       "18205     RW\n",
       "18206     CM\n",
       "Name: Position, Length: 18207, dtype: object"
      ]
     },
     "execution_count": 118,
     "metadata": {},
     "output_type": "execute_result"
    }
   ],
   "source": [
    "fifa.Position"
   ]
  },
  {
   "cell_type": "code",
   "execution_count": 152,
   "metadata": {},
   "outputs": [],
   "source": [
    "t5=fifa.groupby('Position')[['Position','Overall']].head(5)"
   ]
  },
  {
   "cell_type": "code",
   "execution_count": 157,
   "metadata": {},
   "outputs": [
    {
     "data": {
      "text/html": [
       "<div>\n",
       "<style scoped>\n",
       "    .dataframe tbody tr th:only-of-type {\n",
       "        vertical-align: middle;\n",
       "    }\n",
       "\n",
       "    .dataframe tbody tr th {\n",
       "        vertical-align: top;\n",
       "    }\n",
       "\n",
       "    .dataframe thead th {\n",
       "        text-align: right;\n",
       "    }\n",
       "</style>\n",
       "<table border=\"1\" class=\"dataframe\">\n",
       "  <thead>\n",
       "    <tr style=\"text-align: right;\">\n",
       "      <th></th>\n",
       "      <th>Position</th>\n",
       "      <th>Overall</th>\n",
       "    </tr>\n",
       "  </thead>\n",
       "  <tbody>\n",
       "    <tr>\n",
       "      <th>17</th>\n",
       "      <td>CAM</td>\n",
       "      <td>89</td>\n",
       "    </tr>\n",
       "    <tr>\n",
       "      <th>31</th>\n",
       "      <td>CAM</td>\n",
       "      <td>88</td>\n",
       "    </tr>\n",
       "    <tr>\n",
       "      <th>61</th>\n",
       "      <td>CAM</td>\n",
       "      <td>86</td>\n",
       "    </tr>\n",
       "    <tr>\n",
       "      <th>66</th>\n",
       "      <td>CAM</td>\n",
       "      <td>86</td>\n",
       "    </tr>\n",
       "    <tr>\n",
       "      <th>74</th>\n",
       "      <td>CAM</td>\n",
       "      <td>86</td>\n",
       "    </tr>\n",
       "    <tr>\n",
       "      <th>...</th>\n",
       "      <td>...</td>\n",
       "      <td>...</td>\n",
       "    </tr>\n",
       "    <tr>\n",
       "      <th>5018</th>\n",
       "      <td>NaN</td>\n",
       "      <td>70</td>\n",
       "    </tr>\n",
       "    <tr>\n",
       "      <th>6736</th>\n",
       "      <td>NaN</td>\n",
       "      <td>68</td>\n",
       "    </tr>\n",
       "    <tr>\n",
       "      <th>7922</th>\n",
       "      <td>NaN</td>\n",
       "      <td>67</td>\n",
       "    </tr>\n",
       "    <tr>\n",
       "      <th>9905</th>\n",
       "      <td>NaN</td>\n",
       "      <td>66</td>\n",
       "    </tr>\n",
       "    <tr>\n",
       "      <th>10628</th>\n",
       "      <td>NaN</td>\n",
       "      <td>65</td>\n",
       "    </tr>\n",
       "  </tbody>\n",
       "</table>\n",
       "<p>140 rows × 2 columns</p>\n",
       "</div>"
      ],
      "text/plain": [
       "      Position  Overall\n",
       "17         CAM       89\n",
       "31         CAM       88\n",
       "61         CAM       86\n",
       "66         CAM       86\n",
       "74         CAM       86\n",
       "...        ...      ...\n",
       "5018       NaN       70\n",
       "6736       NaN       68\n",
       "7922       NaN       67\n",
       "9905       NaN       66\n",
       "10628      NaN       65\n",
       "\n",
       "[140 rows x 2 columns]"
      ]
     },
     "execution_count": 157,
     "metadata": {},
     "output_type": "execute_result"
    }
   ],
   "source": [
    "t5.sort_values(by=['Position','Overall'],ascending=[True,False])"
   ]
  },
  {
   "cell_type": "markdown",
   "metadata": {},
   "source": [
    "## 6.a:\tAre there any players appearing in more than one Table. Please point out such players."
   ]
  },
  {
   "cell_type": "code",
   "execution_count": 173,
   "metadata": {},
   "outputs": [
    {
     "data": {
      "text/html": [
       "<div>\n",
       "<style scoped>\n",
       "    .dataframe tbody tr th:only-of-type {\n",
       "        vertical-align: middle;\n",
       "    }\n",
       "\n",
       "    .dataframe tbody tr th {\n",
       "        vertical-align: top;\n",
       "    }\n",
       "\n",
       "    .dataframe thead th {\n",
       "        text-align: right;\n",
       "    }\n",
       "</style>\n",
       "<table border=\"1\" class=\"dataframe\">\n",
       "  <thead>\n",
       "    <tr style=\"text-align: right;\">\n",
       "      <th></th>\n",
       "      <th>Name</th>\n",
       "    </tr>\n",
       "  </thead>\n",
       "  <tbody>\n",
       "    <tr>\n",
       "      <th>J. Rodríguez</th>\n",
       "      <td>11</td>\n",
       "    </tr>\n",
       "    <tr>\n",
       "      <th>Paulinho</th>\n",
       "      <td>8</td>\n",
       "    </tr>\n",
       "    <tr>\n",
       "      <th>J. Williams</th>\n",
       "      <td>7</td>\n",
       "    </tr>\n",
       "    <tr>\n",
       "      <th>R. Williams</th>\n",
       "      <td>7</td>\n",
       "    </tr>\n",
       "    <tr>\n",
       "      <th>J. Gómez</th>\n",
       "      <td>6</td>\n",
       "    </tr>\n",
       "    <tr>\n",
       "      <th>...</th>\n",
       "      <td>...</td>\n",
       "    </tr>\n",
       "    <tr>\n",
       "      <th>Lee Keun Ho</th>\n",
       "      <td>2</td>\n",
       "    </tr>\n",
       "    <tr>\n",
       "      <th>J. Herrera</th>\n",
       "      <td>2</td>\n",
       "    </tr>\n",
       "    <tr>\n",
       "      <th>L. Maniero</th>\n",
       "      <td>2</td>\n",
       "    </tr>\n",
       "    <tr>\n",
       "      <th>C. Rojas</th>\n",
       "      <td>2</td>\n",
       "    </tr>\n",
       "    <tr>\n",
       "      <th>C. Taylor</th>\n",
       "      <td>2</td>\n",
       "    </tr>\n",
       "  </tbody>\n",
       "</table>\n",
       "<p>762 rows × 1 columns</p>\n",
       "</div>"
      ],
      "text/plain": [
       "              Name\n",
       "J. Rodríguez    11\n",
       "Paulinho         8\n",
       "J. Williams      7\n",
       "R. Williams      7\n",
       "J. Gómez         6\n",
       "...            ...\n",
       "Lee Keun Ho      2\n",
       "J. Herrera       2\n",
       "L. Maniero       2\n",
       "C. Rojas         2\n",
       "C. Taylor        2\n",
       "\n",
       "[762 rows x 1 columns]"
      ]
     },
     "execution_count": 173,
     "metadata": {},
     "output_type": "execute_result"
    }
   ],
   "source": [
    "name=fifa.Name.value_counts()\n",
    "pd.DataFrame(name[name>1])"
   ]
  },
  {
   "cell_type": "markdown",
   "metadata": {},
   "source": [
    "## 6.b:\tWhat is the average wage one can expect to pay for the top 5 in every position?"
   ]
  },
  {
   "cell_type": "code",
   "execution_count": 185,
   "metadata": {},
   "outputs": [],
   "source": [
    "a=fifa.sort_values(by='Overall',ascending=False)"
   ]
  },
  {
   "cell_type": "code",
   "execution_count": 186,
   "metadata": {},
   "outputs": [
    {
     "data": {
      "text/plain": [
       "Position\n",
       "CAM    10229.645094\n",
       "CB      7704.724409\n",
       "CDM     9315.400844\n",
       "CF     10216.216216\n",
       "CM      8340.746055\n",
       "GK      6803.950617\n",
       "LAM    26142.857143\n",
       "LB      8726.928896\n",
       "LCB    11498.456790\n",
       "LCM    14131.645570\n",
       "LDM    11860.082305\n",
       "LF     44666.666667\n",
       "LM      9656.621005\n",
       "LS     15260.869565\n",
       "LW     13068.241470\n",
       "LWB     9076.923077\n",
       "RAM    19095.238095\n",
       "RB      8604.182804\n",
       "RCB    12688.821752\n",
       "RCM    14404.092072\n",
       "RDM    12149.193548\n",
       "RF     52687.500000\n",
       "RM      9540.925267\n",
       "RS     14379.310345\n",
       "RW     14432.432432\n",
       "RWB     8597.701149\n",
       "ST      9938.197026\n",
       "Name: Wage, dtype: float64"
      ]
     },
     "execution_count": 186,
     "metadata": {},
     "output_type": "execute_result"
    }
   ],
   "source": [
    "t=a.groupby('Position')['Wage'].mean()\n",
    "t"
   ]
  },
  {
   "cell_type": "markdown",
   "metadata": {},
   "source": [
    "# Final Report:"
   ]
  },
  {
   "cell_type": "markdown",
   "metadata": {},
   "source": [
    "* Accrording to top 20 whose contract got expired in 2020 is De Gea.\n",
    "* Average age of top 20 players is 20.\n",
    "* Average Wage of top 20 Players is 205450.\n",
    "* L.Messi and Christano Ronaldo have heighest Overall rating according to the original data set.\n",
    "* Average Wage of top 5 Players in every position is 10229.64.\n",
    "* Correlation between the Overall rating and Value for top 20 player is 78%"
   ]
  }
 ],
 "metadata": {
  "kernelspec": {
   "display_name": "Python 3",
   "language": "python",
   "name": "python3"
  },
  "language_info": {
   "codemirror_mode": {
    "name": "ipython",
    "version": 3
   },
   "file_extension": ".py",
   "mimetype": "text/x-python",
   "name": "python",
   "nbconvert_exporter": "python",
   "pygments_lexer": "ipython3",
   "version": "3.7.6"
  }
 },
 "nbformat": 4,
 "nbformat_minor": 4
}
